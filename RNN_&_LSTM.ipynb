{
  "nbformat": 4,
  "nbformat_minor": 0,
  "metadata": {
    "colab": {
      "provenance": [],
      "gpuType": "T4"
    },
    "kernelspec": {
      "name": "python3",
      "display_name": "Python 3"
    },
    "language_info": {
      "name": "python"
    },
    "accelerator": "GPU"
  },
  "cells": [
    {
      "cell_type": "code",
      "source": [
        "!pip install torch datasets transformers numpy scikit-learn matplotlib tqdm pandas"
      ],
      "metadata": {
        "colab": {
          "base_uri": "https://localhost:8080/"
        },
        "id": "mlmoe7ogytkB",
        "outputId": "410f31f6-a6d2-41cf-dbd1-5acc6624085d"
      },
      "execution_count": null,
      "outputs": [
        {
          "output_type": "stream",
          "name": "stdout",
          "text": [
            "Requirement already satisfied: torch in /usr/local/lib/python3.11/dist-packages (2.6.0+cu124)\n",
            "Collecting datasets\n",
            "  Downloading datasets-3.5.1-py3-none-any.whl.metadata (19 kB)\n",
            "Requirement already satisfied: transformers in /usr/local/lib/python3.11/dist-packages (4.51.3)\n",
            "Requirement already satisfied: numpy in /usr/local/lib/python3.11/dist-packages (2.0.2)\n",
            "Requirement already satisfied: scikit-learn in /usr/local/lib/python3.11/dist-packages (1.6.1)\n",
            "Requirement already satisfied: matplotlib in /usr/local/lib/python3.11/dist-packages (3.10.0)\n",
            "Requirement already satisfied: tqdm in /usr/local/lib/python3.11/dist-packages (4.67.1)\n",
            "Requirement already satisfied: pandas in /usr/local/lib/python3.11/dist-packages (2.2.2)\n",
            "Requirement already satisfied: filelock in /usr/local/lib/python3.11/dist-packages (from torch) (3.18.0)\n",
            "Requirement already satisfied: typing-extensions>=4.10.0 in /usr/local/lib/python3.11/dist-packages (from torch) (4.13.2)\n",
            "Requirement already satisfied: networkx in /usr/local/lib/python3.11/dist-packages (from torch) (3.4.2)\n",
            "Requirement already satisfied: jinja2 in /usr/local/lib/python3.11/dist-packages (from torch) (3.1.6)\n",
            "Requirement already satisfied: fsspec in /usr/local/lib/python3.11/dist-packages (from torch) (2025.3.2)\n",
            "Collecting nvidia-cuda-nvrtc-cu12==12.4.127 (from torch)\n",
            "  Downloading nvidia_cuda_nvrtc_cu12-12.4.127-py3-none-manylinux2014_x86_64.whl.metadata (1.5 kB)\n",
            "Collecting nvidia-cuda-runtime-cu12==12.4.127 (from torch)\n",
            "  Downloading nvidia_cuda_runtime_cu12-12.4.127-py3-none-manylinux2014_x86_64.whl.metadata (1.5 kB)\n",
            "Collecting nvidia-cuda-cupti-cu12==12.4.127 (from torch)\n",
            "  Downloading nvidia_cuda_cupti_cu12-12.4.127-py3-none-manylinux2014_x86_64.whl.metadata (1.6 kB)\n",
            "Collecting nvidia-cudnn-cu12==9.1.0.70 (from torch)\n",
            "  Downloading nvidia_cudnn_cu12-9.1.0.70-py3-none-manylinux2014_x86_64.whl.metadata (1.6 kB)\n",
            "Collecting nvidia-cublas-cu12==12.4.5.8 (from torch)\n",
            "  Downloading nvidia_cublas_cu12-12.4.5.8-py3-none-manylinux2014_x86_64.whl.metadata (1.5 kB)\n",
            "Collecting nvidia-cufft-cu12==11.2.1.3 (from torch)\n",
            "  Downloading nvidia_cufft_cu12-11.2.1.3-py3-none-manylinux2014_x86_64.whl.metadata (1.5 kB)\n",
            "Collecting nvidia-curand-cu12==10.3.5.147 (from torch)\n",
            "  Downloading nvidia_curand_cu12-10.3.5.147-py3-none-manylinux2014_x86_64.whl.metadata (1.5 kB)\n",
            "Collecting nvidia-cusolver-cu12==11.6.1.9 (from torch)\n",
            "  Downloading nvidia_cusolver_cu12-11.6.1.9-py3-none-manylinux2014_x86_64.whl.metadata (1.6 kB)\n",
            "Collecting nvidia-cusparse-cu12==12.3.1.170 (from torch)\n",
            "  Downloading nvidia_cusparse_cu12-12.3.1.170-py3-none-manylinux2014_x86_64.whl.metadata (1.6 kB)\n",
            "Requirement already satisfied: nvidia-cusparselt-cu12==0.6.2 in /usr/local/lib/python3.11/dist-packages (from torch) (0.6.2)\n",
            "Requirement already satisfied: nvidia-nccl-cu12==2.21.5 in /usr/local/lib/python3.11/dist-packages (from torch) (2.21.5)\n",
            "Requirement already satisfied: nvidia-nvtx-cu12==12.4.127 in /usr/local/lib/python3.11/dist-packages (from torch) (12.4.127)\n",
            "Collecting nvidia-nvjitlink-cu12==12.4.127 (from torch)\n",
            "  Downloading nvidia_nvjitlink_cu12-12.4.127-py3-none-manylinux2014_x86_64.whl.metadata (1.5 kB)\n",
            "Requirement already satisfied: triton==3.2.0 in /usr/local/lib/python3.11/dist-packages (from torch) (3.2.0)\n",
            "Requirement already satisfied: sympy==1.13.1 in /usr/local/lib/python3.11/dist-packages (from torch) (1.13.1)\n",
            "Requirement already satisfied: mpmath<1.4,>=1.1.0 in /usr/local/lib/python3.11/dist-packages (from sympy==1.13.1->torch) (1.3.0)\n",
            "Requirement already satisfied: pyarrow>=15.0.0 in /usr/local/lib/python3.11/dist-packages (from datasets) (18.1.0)\n",
            "Collecting dill<0.3.9,>=0.3.0 (from datasets)\n",
            "  Downloading dill-0.3.8-py3-none-any.whl.metadata (10 kB)\n",
            "Requirement already satisfied: requests>=2.32.2 in /usr/local/lib/python3.11/dist-packages (from datasets) (2.32.3)\n",
            "Collecting xxhash (from datasets)\n",
            "  Downloading xxhash-3.5.0-cp311-cp311-manylinux_2_17_x86_64.manylinux2014_x86_64.whl.metadata (12 kB)\n",
            "Collecting multiprocess<0.70.17 (from datasets)\n",
            "  Downloading multiprocess-0.70.16-py311-none-any.whl.metadata (7.2 kB)\n",
            "Collecting fsspec (from torch)\n",
            "  Downloading fsspec-2025.3.0-py3-none-any.whl.metadata (11 kB)\n",
            "Requirement already satisfied: aiohttp in /usr/local/lib/python3.11/dist-packages (from datasets) (3.11.15)\n",
            "Requirement already satisfied: huggingface-hub>=0.24.0 in /usr/local/lib/python3.11/dist-packages (from datasets) (0.30.2)\n",
            "Requirement already satisfied: packaging in /usr/local/lib/python3.11/dist-packages (from datasets) (24.2)\n",
            "Requirement already satisfied: pyyaml>=5.1 in /usr/local/lib/python3.11/dist-packages (from datasets) (6.0.2)\n",
            "Requirement already satisfied: regex!=2019.12.17 in /usr/local/lib/python3.11/dist-packages (from transformers) (2024.11.6)\n",
            "Requirement already satisfied: tokenizers<0.22,>=0.21 in /usr/local/lib/python3.11/dist-packages (from transformers) (0.21.1)\n",
            "Requirement already satisfied: safetensors>=0.4.3 in /usr/local/lib/python3.11/dist-packages (from transformers) (0.5.3)\n",
            "Requirement already satisfied: scipy>=1.6.0 in /usr/local/lib/python3.11/dist-packages (from scikit-learn) (1.15.2)\n",
            "Requirement already satisfied: joblib>=1.2.0 in /usr/local/lib/python3.11/dist-packages (from scikit-learn) (1.4.2)\n",
            "Requirement already satisfied: threadpoolctl>=3.1.0 in /usr/local/lib/python3.11/dist-packages (from scikit-learn) (3.6.0)\n",
            "Requirement already satisfied: contourpy>=1.0.1 in /usr/local/lib/python3.11/dist-packages (from matplotlib) (1.3.2)\n",
            "Requirement already satisfied: cycler>=0.10 in /usr/local/lib/python3.11/dist-packages (from matplotlib) (0.12.1)\n",
            "Requirement already satisfied: fonttools>=4.22.0 in /usr/local/lib/python3.11/dist-packages (from matplotlib) (4.57.0)\n",
            "Requirement already satisfied: kiwisolver>=1.3.1 in /usr/local/lib/python3.11/dist-packages (from matplotlib) (1.4.8)\n",
            "Requirement already satisfied: pillow>=8 in /usr/local/lib/python3.11/dist-packages (from matplotlib) (11.2.1)\n",
            "Requirement already satisfied: pyparsing>=2.3.1 in /usr/local/lib/python3.11/dist-packages (from matplotlib) (3.2.3)\n",
            "Requirement already satisfied: python-dateutil>=2.7 in /usr/local/lib/python3.11/dist-packages (from matplotlib) (2.9.0.post0)\n",
            "Requirement already satisfied: pytz>=2020.1 in /usr/local/lib/python3.11/dist-packages (from pandas) (2025.2)\n",
            "Requirement already satisfied: tzdata>=2022.7 in /usr/local/lib/python3.11/dist-packages (from pandas) (2025.2)\n",
            "Requirement already satisfied: aiohappyeyeballs>=2.3.0 in /usr/local/lib/python3.11/dist-packages (from aiohttp->datasets) (2.6.1)\n",
            "Requirement already satisfied: aiosignal>=1.1.2 in /usr/local/lib/python3.11/dist-packages (from aiohttp->datasets) (1.3.2)\n",
            "Requirement already satisfied: attrs>=17.3.0 in /usr/local/lib/python3.11/dist-packages (from aiohttp->datasets) (25.3.0)\n",
            "Requirement already satisfied: frozenlist>=1.1.1 in /usr/local/lib/python3.11/dist-packages (from aiohttp->datasets) (1.6.0)\n",
            "Requirement already satisfied: multidict<7.0,>=4.5 in /usr/local/lib/python3.11/dist-packages (from aiohttp->datasets) (6.4.3)\n",
            "Requirement already satisfied: propcache>=0.2.0 in /usr/local/lib/python3.11/dist-packages (from aiohttp->datasets) (0.3.1)\n",
            "Requirement already satisfied: yarl<2.0,>=1.17.0 in /usr/local/lib/python3.11/dist-packages (from aiohttp->datasets) (1.20.0)\n",
            "Requirement already satisfied: six>=1.5 in /usr/local/lib/python3.11/dist-packages (from python-dateutil>=2.7->matplotlib) (1.17.0)\n",
            "Requirement already satisfied: charset-normalizer<4,>=2 in /usr/local/lib/python3.11/dist-packages (from requests>=2.32.2->datasets) (3.4.1)\n",
            "Requirement already satisfied: idna<4,>=2.5 in /usr/local/lib/python3.11/dist-packages (from requests>=2.32.2->datasets) (3.10)\n",
            "Requirement already satisfied: urllib3<3,>=1.21.1 in /usr/local/lib/python3.11/dist-packages (from requests>=2.32.2->datasets) (2.4.0)\n",
            "Requirement already satisfied: certifi>=2017.4.17 in /usr/local/lib/python3.11/dist-packages (from requests>=2.32.2->datasets) (2025.4.26)\n",
            "Requirement already satisfied: MarkupSafe>=2.0 in /usr/local/lib/python3.11/dist-packages (from jinja2->torch) (3.0.2)\n",
            "Downloading nvidia_cublas_cu12-12.4.5.8-py3-none-manylinux2014_x86_64.whl (363.4 MB)\n",
            "\u001b[2K   \u001b[90m━━━━━━━━━━━━━━━━━━━━━━━━━━━━━━━━━━━━━━━━\u001b[0m \u001b[32m363.4/363.4 MB\u001b[0m \u001b[31m2.9 MB/s\u001b[0m eta \u001b[36m0:00:00\u001b[0m\n",
            "\u001b[?25hDownloading nvidia_cuda_cupti_cu12-12.4.127-py3-none-manylinux2014_x86_64.whl (13.8 MB)\n",
            "\u001b[2K   \u001b[90m━━━━━━━━━━━━━━━━━━━━━━━━━━━━━━━━━━━━━━━━\u001b[0m \u001b[32m13.8/13.8 MB\u001b[0m \u001b[31m96.0 MB/s\u001b[0m eta \u001b[36m0:00:00\u001b[0m\n",
            "\u001b[?25hDownloading nvidia_cuda_nvrtc_cu12-12.4.127-py3-none-manylinux2014_x86_64.whl (24.6 MB)\n",
            "\u001b[2K   \u001b[90m━━━━━━━━━━━━━━━━━━━━━━━━━━━━━━━━━━━━━━━━\u001b[0m \u001b[32m24.6/24.6 MB\u001b[0m \u001b[31m69.4 MB/s\u001b[0m eta \u001b[36m0:00:00\u001b[0m\n",
            "\u001b[?25hDownloading nvidia_cuda_runtime_cu12-12.4.127-py3-none-manylinux2014_x86_64.whl (883 kB)\n",
            "\u001b[2K   \u001b[90m━━━━━━━━━━━━━━━━━━━━━━━━━━━━━━━━━━━━━━━━\u001b[0m \u001b[32m883.7/883.7 kB\u001b[0m \u001b[31m55.2 MB/s\u001b[0m eta \u001b[36m0:00:00\u001b[0m\n",
            "\u001b[?25hDownloading nvidia_cudnn_cu12-9.1.0.70-py3-none-manylinux2014_x86_64.whl (664.8 MB)\n",
            "\u001b[2K   \u001b[90m━━━━━━━━━━━━━━━━━━━━━━━━━━━━━━━━━━━━━━━━\u001b[0m \u001b[32m664.8/664.8 MB\u001b[0m \u001b[31m1.4 MB/s\u001b[0m eta \u001b[36m0:00:00\u001b[0m\n",
            "\u001b[?25hDownloading nvidia_cufft_cu12-11.2.1.3-py3-none-manylinux2014_x86_64.whl (211.5 MB)\n",
            "\u001b[2K   \u001b[90m━━━━━━━━━━━━━━━━━━━━━━━━━━━━━━━━━━━━━━━━\u001b[0m \u001b[32m211.5/211.5 MB\u001b[0m \u001b[31m6.0 MB/s\u001b[0m eta \u001b[36m0:00:00\u001b[0m\n",
            "\u001b[?25hDownloading nvidia_curand_cu12-10.3.5.147-py3-none-manylinux2014_x86_64.whl (56.3 MB)\n",
            "\u001b[2K   \u001b[90m━━━━━━━━━━━━━━━━━━━━━━━━━━━━━━━━━━━━━━━━\u001b[0m \u001b[32m56.3/56.3 MB\u001b[0m \u001b[31m13.3 MB/s\u001b[0m eta \u001b[36m0:00:00\u001b[0m\n",
            "\u001b[?25hDownloading nvidia_cusolver_cu12-11.6.1.9-py3-none-manylinux2014_x86_64.whl (127.9 MB)\n",
            "\u001b[2K   \u001b[90m━━━━━━━━━━━━━━━━━━━━━━━━━━━━━━━━━━━━━━━━\u001b[0m \u001b[32m127.9/127.9 MB\u001b[0m \u001b[31m7.6 MB/s\u001b[0m eta \u001b[36m0:00:00\u001b[0m\n",
            "\u001b[?25hDownloading nvidia_cusparse_cu12-12.3.1.170-py3-none-manylinux2014_x86_64.whl (207.5 MB)\n",
            "\u001b[2K   \u001b[90m━━━━━━━━━━━━━━━━━━━━━━━━━━━━━━━━━━━━━━━━\u001b[0m \u001b[32m207.5/207.5 MB\u001b[0m \u001b[31m6.0 MB/s\u001b[0m eta \u001b[36m0:00:00\u001b[0m\n",
            "\u001b[?25hDownloading nvidia_nvjitlink_cu12-12.4.127-py3-none-manylinux2014_x86_64.whl (21.1 MB)\n",
            "\u001b[2K   \u001b[90m━━━━━━━━━━━━━━━━━━━━━━━━━━━━━━━━━━━━━━━━\u001b[0m \u001b[32m21.1/21.1 MB\u001b[0m \u001b[31m77.7 MB/s\u001b[0m eta \u001b[36m0:00:00\u001b[0m\n",
            "\u001b[?25hDownloading datasets-3.5.1-py3-none-any.whl (491 kB)\n",
            "\u001b[2K   \u001b[90m━━━━━━━━━━━━━━━━━━━━━━━━━━━━━━━━━━━━━━━━\u001b[0m \u001b[32m491.4/491.4 kB\u001b[0m \u001b[31m36.7 MB/s\u001b[0m eta \u001b[36m0:00:00\u001b[0m\n",
            "\u001b[?25hDownloading dill-0.3.8-py3-none-any.whl (116 kB)\n",
            "\u001b[2K   \u001b[90m━━━━━━━━━━━━━━━━━━━━━━━━━━━━━━━━━━━━━━━━\u001b[0m \u001b[32m116.3/116.3 kB\u001b[0m \u001b[31m11.4 MB/s\u001b[0m eta \u001b[36m0:00:00\u001b[0m\n",
            "\u001b[?25hDownloading fsspec-2025.3.0-py3-none-any.whl (193 kB)\n",
            "\u001b[2K   \u001b[90m━━━━━━━━━━━━━━━━━━━━━━━━━━━━━━━━━━━━━━━━\u001b[0m \u001b[32m193.6/193.6 kB\u001b[0m \u001b[31m19.0 MB/s\u001b[0m eta \u001b[36m0:00:00\u001b[0m\n",
            "\u001b[?25hDownloading multiprocess-0.70.16-py311-none-any.whl (143 kB)\n",
            "\u001b[2K   \u001b[90m━━━━━━━━━━━━━━━━━━━━━━━━━━━━━━━━━━━━━━━━\u001b[0m \u001b[32m143.5/143.5 kB\u001b[0m \u001b[31m15.7 MB/s\u001b[0m eta \u001b[36m0:00:00\u001b[0m\n",
            "\u001b[?25hDownloading xxhash-3.5.0-cp311-cp311-manylinux_2_17_x86_64.manylinux2014_x86_64.whl (194 kB)\n",
            "\u001b[2K   \u001b[90m━━━━━━━━━━━━━━━━━━━━━━━━━━━━━━━━━━━━━━━━\u001b[0m \u001b[32m194.8/194.8 kB\u001b[0m \u001b[31m17.2 MB/s\u001b[0m eta \u001b[36m0:00:00\u001b[0m\n",
            "\u001b[?25hInstalling collected packages: xxhash, nvidia-nvjitlink-cu12, nvidia-curand-cu12, nvidia-cufft-cu12, nvidia-cuda-runtime-cu12, nvidia-cuda-nvrtc-cu12, nvidia-cuda-cupti-cu12, nvidia-cublas-cu12, fsspec, dill, nvidia-cusparse-cu12, nvidia-cudnn-cu12, multiprocess, nvidia-cusolver-cu12, datasets\n",
            "  Attempting uninstall: nvidia-nvjitlink-cu12\n",
            "    Found existing installation: nvidia-nvjitlink-cu12 12.5.82\n",
            "    Uninstalling nvidia-nvjitlink-cu12-12.5.82:\n",
            "      Successfully uninstalled nvidia-nvjitlink-cu12-12.5.82\n",
            "  Attempting uninstall: nvidia-curand-cu12\n",
            "    Found existing installation: nvidia-curand-cu12 10.3.6.82\n",
            "    Uninstalling nvidia-curand-cu12-10.3.6.82:\n",
            "      Successfully uninstalled nvidia-curand-cu12-10.3.6.82\n",
            "  Attempting uninstall: nvidia-cufft-cu12\n",
            "    Found existing installation: nvidia-cufft-cu12 11.2.3.61\n",
            "    Uninstalling nvidia-cufft-cu12-11.2.3.61:\n",
            "      Successfully uninstalled nvidia-cufft-cu12-11.2.3.61\n",
            "  Attempting uninstall: nvidia-cuda-runtime-cu12\n",
            "    Found existing installation: nvidia-cuda-runtime-cu12 12.5.82\n",
            "    Uninstalling nvidia-cuda-runtime-cu12-12.5.82:\n",
            "      Successfully uninstalled nvidia-cuda-runtime-cu12-12.5.82\n",
            "  Attempting uninstall: nvidia-cuda-nvrtc-cu12\n",
            "    Found existing installation: nvidia-cuda-nvrtc-cu12 12.5.82\n",
            "    Uninstalling nvidia-cuda-nvrtc-cu12-12.5.82:\n",
            "      Successfully uninstalled nvidia-cuda-nvrtc-cu12-12.5.82\n",
            "  Attempting uninstall: nvidia-cuda-cupti-cu12\n",
            "    Found existing installation: nvidia-cuda-cupti-cu12 12.5.82\n",
            "    Uninstalling nvidia-cuda-cupti-cu12-12.5.82:\n",
            "      Successfully uninstalled nvidia-cuda-cupti-cu12-12.5.82\n",
            "  Attempting uninstall: nvidia-cublas-cu12\n",
            "    Found existing installation: nvidia-cublas-cu12 12.5.3.2\n",
            "    Uninstalling nvidia-cublas-cu12-12.5.3.2:\n",
            "      Successfully uninstalled nvidia-cublas-cu12-12.5.3.2\n",
            "  Attempting uninstall: fsspec\n",
            "    Found existing installation: fsspec 2025.3.2\n",
            "    Uninstalling fsspec-2025.3.2:\n",
            "      Successfully uninstalled fsspec-2025.3.2\n",
            "  Attempting uninstall: nvidia-cusparse-cu12\n",
            "    Found existing installation: nvidia-cusparse-cu12 12.5.1.3\n",
            "    Uninstalling nvidia-cusparse-cu12-12.5.1.3:\n",
            "      Successfully uninstalled nvidia-cusparse-cu12-12.5.1.3\n",
            "  Attempting uninstall: nvidia-cudnn-cu12\n",
            "    Found existing installation: nvidia-cudnn-cu12 9.3.0.75\n",
            "    Uninstalling nvidia-cudnn-cu12-9.3.0.75:\n",
            "      Successfully uninstalled nvidia-cudnn-cu12-9.3.0.75\n",
            "  Attempting uninstall: nvidia-cusolver-cu12\n",
            "    Found existing installation: nvidia-cusolver-cu12 11.6.3.83\n",
            "    Uninstalling nvidia-cusolver-cu12-11.6.3.83:\n",
            "      Successfully uninstalled nvidia-cusolver-cu12-11.6.3.83\n",
            "\u001b[31mERROR: pip's dependency resolver does not currently take into account all the packages that are installed. This behaviour is the source of the following dependency conflicts.\n",
            "gcsfs 2025.3.2 requires fsspec==2025.3.2, but you have fsspec 2025.3.0 which is incompatible.\u001b[0m\u001b[31m\n",
            "\u001b[0mSuccessfully installed datasets-3.5.1 dill-0.3.8 fsspec-2025.3.0 multiprocess-0.70.16 nvidia-cublas-cu12-12.4.5.8 nvidia-cuda-cupti-cu12-12.4.127 nvidia-cuda-nvrtc-cu12-12.4.127 nvidia-cuda-runtime-cu12-12.4.127 nvidia-cudnn-cu12-9.1.0.70 nvidia-cufft-cu12-11.2.1.3 nvidia-curand-cu12-10.3.5.147 nvidia-cusolver-cu12-11.6.1.9 nvidia-cusparse-cu12-12.3.1.170 nvidia-nvjitlink-cu12-12.4.127 xxhash-3.5.0\n"
          ]
        }
      ]
    },
    {
      "cell_type": "code",
      "source": [
        "import torch\n",
        "import torch.nn as nn\n",
        "\n",
        "class SimpleRNN_NER(nn.Module):\n",
        "    def __init__(self, vocab_size, embedding_dim, hidden_dim, num_labels, dropout=0.5):\n",
        "        super(SimpleRNN_NER, self).__init__()\n",
        "\n",
        "        self.embeddings = nn.Embedding(vocab_size, embedding_dim, padding_idx=0)\n",
        "\n",
        "        self.rnn = nn.RNN(\n",
        "            input_size=embedding_dim,\n",
        "            hidden_size=hidden_dim,\n",
        "            num_layers=1,\n",
        "            batch_first=True\n",
        "        )\n",
        "\n",
        "        self.hidden2tag = nn.Linear(hidden_dim, num_labels)\n",
        "\n",
        "        self.dropout = nn.Dropout(dropout)\n",
        "\n",
        "    def forward(self, input_ids, attention_mask=None):\n",
        "        embedded = self.embeddings(input_ids)\n",
        "\n",
        "        embedded = self.dropout(embedded)\n",
        "\n",
        "        rnn_output, _ = self.rnn(embedded)\n",
        "\n",
        "        rnn_output = self.dropout(rnn_output)\n",
        "\n",
        "        tag_space = self.hidden2tag(rnn_output)\n",
        "\n",
        "        return tag_space\n",
        "\n",
        "class LSTM_NER(nn.Module):\n",
        "    def __init__(self, vocab_size, embedding_dim, hidden_dim, num_labels, dropout=0.5):\n",
        "        super(LSTM_NER, self).__init__()\n",
        "\n",
        "        self.embeddings = nn.Embedding(vocab_size, embedding_dim, padding_idx=0)\n",
        "\n",
        "        self.lstm = nn.LSTM(\n",
        "            input_size=embedding_dim,\n",
        "            hidden_size=hidden_dim,\n",
        "            num_layers=2,\n",
        "            batch_first=True,\n",
        "            dropout=dropout if 2 > 1 else 0\n",
        "        )\n",
        "\n",
        "        self.hidden2tag = nn.Linear(hidden_dim, num_labels)\n",
        "\n",
        "        self.dropout = nn.Dropout(dropout)\n",
        "\n",
        "    def forward(self, input_ids, attention_mask=None):\n",
        "        embedded = self.embeddings(input_ids)\n",
        "\n",
        "        embedded = self.dropout(embedded)\n",
        "\n",
        "        lstm_output, _ = self.lstm(embedded)\n",
        "\n",
        "        lstm_output = self.dropout(lstm_output)\n",
        "\n",
        "        tag_space = self.hidden2tag(lstm_output)\n",
        "\n",
        "        return tag_space\n",
        "\n",
        "class BiRNN_NER(nn.Module):\n",
        "    def __init__(self, vocab_size, embedding_dim, hidden_dim, num_labels, dropout=0.5):\n",
        "        super(BiRNN_NER, self).__init__()\n",
        "\n",
        "        self.embeddings = nn.Embedding(vocab_size, embedding_dim, padding_idx=0)\n",
        "\n",
        "        self.rnn = nn.RNN(\n",
        "            input_size=embedding_dim,\n",
        "            hidden_size=hidden_dim,\n",
        "            num_layers=2,\n",
        "            bidirectional=True,\n",
        "            batch_first=True,\n",
        "            dropout=dropout if 2 > 1 else 0\n",
        "        )\n",
        "\n",
        "        self.hidden2tag = nn.Linear(hidden_dim * 2, num_labels)\n",
        "\n",
        "        self.dropout = nn.Dropout(dropout)\n",
        "\n",
        "    def forward(self, input_ids, attention_mask=None):\n",
        "        embedded = self.embeddings(input_ids)\n",
        "\n",
        "        embedded = self.dropout(embedded)\n",
        "\n",
        "        rnn_output, _ = self.rnn(embedded)\n",
        "\n",
        "        rnn_output = self.dropout(rnn_output)\n",
        "\n",
        "        tag_space = self.hidden2tag(rnn_output)\n",
        "\n",
        "        return tag_space\n",
        "\n",
        "def train_selected_model(model_type, vocab_size, embedding_dim, hidden_dim, num_labels,\n",
        "                          train_dataloader, val_dataloader, test_dataloader,\n",
        "                          device, num_epochs=10, learning_rate=0.001, model_save_path=None):\n",
        "\n",
        "    if model_type.lower() == \"rnn\":\n",
        "        model = SimpleRNN_NER(vocab_size, embedding_dim, hidden_dim, num_labels)\n",
        "        model_name = \"SimpleRNN\"\n",
        "    elif model_type.lower() == \"lstm\":\n",
        "        model = LSTM_NER(vocab_size, embedding_dim, hidden_dim, num_labels)\n",
        "        model_name = \"LSTM\"\n",
        "    elif model_type.lower() == \"birnn\":\n",
        "        model = BiRNN_NER(vocab_size, embedding_dim, hidden_dim, num_labels)\n",
        "        model_name = \"BiRNN\"\n",
        "    elif model_type.lower() == \"bilstm\":\n",
        "        model = BiLSTM_NER(vocab_size, embedding_dim, hidden_dim, num_labels)\n",
        "        model_name = \"BiLSTM\"\n",
        "    else:\n",
        "        raise ValueError(f\"Unknown model type: {model_type}. Choose from: rnn, lstm, birnn, bilstm\")\n",
        "\n",
        "    if model_save_path is None:\n",
        "        model_save_path = f\"ner_{model_name.lower()}_best.pt\"\n",
        "\n",
        "    model.to(device)\n",
        "\n",
        "    optimizer = torch.optim.Adam(model.parameters(), lr=learning_rate)\n",
        "\n",
        "    def compute_loss(outputs, labels, attention_mask):\n",
        "        batch_size, seq_len, num_classes = outputs.size()\n",
        "        flat_outputs = outputs.view(-1, num_classes)\n",
        "        flat_labels = labels.view(-1)\n",
        "        flat_mask = attention_mask.view(-1).bool()\n",
        "\n",
        "        loss_fct = nn.CrossEntropyLoss()\n",
        "\n",
        "        active_loss = flat_mask\n",
        "        active_outputs = flat_outputs[active_loss]\n",
        "        active_labels = flat_labels[active_loss]\n",
        "\n",
        "        return loss_fct(active_outputs, active_labels)\n",
        "\n",
        "    def train_epoch(model, dataloader, optimizer):\n",
        "        model.train()\n",
        "        total_loss = 0\n",
        "\n",
        "        progress_bar = tqdm(dataloader, desc=f\"Training {model_name}\")\n",
        "        for batch in progress_bar:\n",
        "            input_ids = batch[\"input_ids\"].to(device)\n",
        "            attention_mask = batch[\"attention_mask\"].to(device)\n",
        "            labels = batch[\"labels\"].to(device)\n",
        "\n",
        "            outputs = model(input_ids, attention_mask)\n",
        "\n",
        "            loss = compute_loss(outputs, labels, attention_mask)\n",
        "\n",
        "            optimizer.zero_grad()\n",
        "            loss.backward()\n",
        "            optimizer.step()\n",
        "\n",
        "            total_loss += loss.item()\n",
        "            progress_bar.set_postfix({\"loss\": f\"{loss.item():.4f}\"})\n",
        "\n",
        "        return total_loss / len(dataloader)\n",
        "\n",
        "    def evaluate_model(model, dataloader):\n",
        "        model.eval()\n",
        "        total_loss = 0\n",
        "        all_predictions = []\n",
        "        all_labels = []\n",
        "\n",
        "        with torch.no_grad():\n",
        "            for batch in tqdm(dataloader, desc=f\"Evaluating {model_name}\"):\n",
        "                input_ids = batch[\"input_ids\"].to(device)\n",
        "                attention_mask = batch[\"attention_mask\"].to(device)\n",
        "                labels = batch[\"labels\"].to(device)\n",
        "\n",
        "                outputs = model(input_ids, attention_mask)\n",
        "\n",
        "                loss = compute_loss(outputs, labels, attention_mask)\n",
        "                total_loss += loss.item()\n",
        "\n",
        "                _, predictions = torch.max(outputs, dim=2)\n",
        "\n",
        "                for i in range(labels.size(0)):\n",
        "                    for j in range(labels.size(1)):\n",
        "                        if attention_mask[i, j].item() == 1:\n",
        "                            all_predictions.append(predictions[i, j].item())\n",
        "                            all_labels.append(labels[i, j].item())\n",
        "\n",
        "        report = classification_report(\n",
        "            all_labels,\n",
        "            all_predictions,\n",
        "            target_names=list(id2label.values()),\n",
        "            digits=4,\n",
        "            zero_division=0\n",
        "        )\n",
        "\n",
        "        return total_loss / len(dataloader), report, all_predictions, all_labels\n",
        "\n",
        "    print(f\"Starting training {model_name}...\")\n",
        "    train_losses = []\n",
        "    val_losses = []\n",
        "    best_val_loss = float('inf')\n",
        "\n",
        "    for epoch in range(num_epochs):\n",
        "        print(f\"Epoch {epoch + 1}/{num_epochs}\")\n",
        "\n",
        "        train_loss = train_epoch(model, train_dataloader, optimizer)\n",
        "        train_losses.append(train_loss)\n",
        "\n",
        "        val_loss, val_report, _, _ = evaluate_model(model, val_dataloader)\n",
        "        val_losses.append(val_loss)\n",
        "\n",
        "        print(f\"Train Loss: {train_loss:.4f}, Validation Loss: {val_loss:.4f}\")\n",
        "        print(\"Validation Report:\")\n",
        "        print(val_report)\n",
        "\n",
        "        if val_loss < best_val_loss:\n",
        "            best_val_loss = val_loss\n",
        "            torch.save(model.state_dict(), model_save_path)\n",
        "            print(f\"Best model saved as {model_save_path}!\")\n",
        "\n",
        "        print(\"-\" * 50)\n",
        "\n",
        "    plt.figure(figsize=(10, 6))\n",
        "    plt.plot(range(1, num_epochs + 1), train_losses, label='Train Loss')\n",
        "    plt.plot(range(1, num_epochs + 1), val_losses, label='Validation Loss')\n",
        "    plt.xlabel('Epoch')\n",
        "    plt.ylabel('Loss')\n",
        "    plt.title(f'{model_name} Training and Validation Loss')\n",
        "    plt.legend()\n",
        "    plt.grid(True)\n",
        "    plt.savefig(f'{model_name.lower()}_loss_history.png')\n",
        "\n",
        "    model.load_state_dict(torch.load(model_save_path))\n",
        "\n",
        "    print(f\"Testing the best {model_name} model...\")\n",
        "    test_loss, test_report, test_preds, test_labels = evaluate_model(model, test_dataloader)\n",
        "    print(f\"Test Loss: {test_loss:.4f}\")\n",
        "    print(\"Test Report:\")\n",
        "    print(test_report)\n",
        "\n",
        "    results = {\n",
        "        'model': model,\n",
        "        'train_losses': train_losses,\n",
        "        'val_losses': val_losses,\n",
        "        'test_loss': test_loss,\n",
        "        'test_report': test_report\n",
        "    }\n",
        "\n",
        "    return results\n",
        "\n",
        "def train_all_models(models_to_train=['rnn', 'lstm', 'birnn', 'bilstm']):\n",
        "    results = {}\n",
        "\n",
        "    common_params = {\n",
        "        'vocab_size': vocab_size,\n",
        "        'embedding_dim': EMBEDDING_DIM,\n",
        "        'hidden_dim': HIDDEN_DIM,\n",
        "        'num_labels': num_labels,\n",
        "        'train_dataloader': train_dataloader,\n",
        "        'val_dataloader': val_dataloader,\n",
        "        'test_dataloader': test_dataloader,\n",
        "        'device': device,\n",
        "        'num_epochs': NUM_EPOCHS,\n",
        "        'learning_rate': LEARNING_RATE\n",
        "    }\n",
        "\n",
        "    for model_type in models_to_train:\n",
        "        print(f\"\\n{'='*20} Training {model_type.upper()} {'='*20}\\n\")\n",
        "        model_results = train_selected_model(\n",
        "            model_type=model_type,\n",
        "            model_save_path=f\"ner_{model_type.lower()}_best.pt\",\n",
        "            **common_params\n",
        "        )\n",
        "        results[model_type] = model_results\n",
        "\n",
        "    compare_models(results)\n",
        "\n",
        "    return results\n",
        "\n",
        "def compare_models(results):\n",
        "    f1_scores = {}\n",
        "    for model_type, result in results.items():\n",
        "        test_report_lines = result['test_report'].strip().split('\\n')\n",
        "        for line in test_report_lines:\n",
        "            if 'weighted avg' in line:\n",
        "                parts = line.split()\n",
        "                if len(parts) >= 5:\n",
        "                    f1_scores[model_type] = float(parts[5])\n",
        "                break\n",
        "\n",
        "    plt.figure(figsize=(10, 6))\n",
        "    models = list(f1_scores.keys())\n",
        "    scores = list(f1_scores.values())\n",
        "\n",
        "    plt.bar(models, scores)\n",
        "    plt.ylabel('F1 Score')\n",
        "    plt.title('Model Comparison - F1 Score on Test Set')\n",
        "    plt.ylim(0, 1.0)\n",
        "\n",
        "    for i, v in enumerate(scores):\n",
        "        plt.text(i, v + 0.01, f\"{v:.4f}\", ha='center')\n",
        "\n",
        "    plt.savefig('model_comparison.png')\n",
        "    plt.show()\n",
        "\n",
        "    print(\"\\nModel Performance Comparison (F1 Scores):\")\n",
        "    for model, score in f1_scores.items():\n",
        "        print(f\"{model.upper()}: {score:.4f}\")\n",
        "\n",
        "all_results = train_all_models()"
      ],
      "metadata": {
        "colab": {
          "base_uri": "https://localhost:8080/",
          "height": 1000
        },
        "id": "YMo9JN4d9q8C",
        "outputId": "a743b72a-c7dc-46d5-fca4-099087e31424"
      },
      "execution_count": null,
      "outputs": [
        {
          "output_type": "stream",
          "name": "stdout",
          "text": [
            "\n",
            "==================== Training RNN ====================\n",
            "\n",
            "Starting training SimpleRNN...\n",
            "Epoch 1/10\n"
          ]
        },
        {
          "output_type": "stream",
          "name": "stderr",
          "text": [
            "Training SimpleRNN: 100%|██████████| 4118/4118 [01:20<00:00, 51.30it/s, loss=0.6174]\n",
            "Evaluating SimpleRNN: 100%|██████████| 589/589 [01:06<00:00,  8.80it/s]\n"
          ]
        },
        {
          "output_type": "stream",
          "name": "stdout",
          "text": [
            "Train Loss: 0.6456, Validation Loss: 0.4709\n",
            "Validation Report:\n",
            "              precision    recall  f1-score   support\n",
            "\n",
            "       TAG_0     0.9219    0.9717    0.9461    365720\n",
            "       TAG_1     0.5089    0.4779    0.4929      6087\n",
            "       TAG_2     0.8130    0.1024    0.1819      6964\n",
            "       TAG_3     0.6052    0.3319    0.4287      6017\n",
            "       TAG_4     0.6353    0.5422    0.5850     20420\n",
            "       TAG_5     0.4792    0.4774    0.4783     23296\n",
            "       TAG_6     0.8009    0.0178    0.0348      9503\n",
            "       TAG_7     0.4950    0.6995    0.5797     19057\n",
            "       TAG_8     0.2609    0.0020    0.0039      6101\n",
            "\n",
            "    accuracy                         0.8565    463165\n",
            "   macro avg     0.6134    0.4025    0.4146    463165\n",
            "weighted avg     0.8471    0.8565    0.8363    463165\n",
            "\n",
            "Best model saved as ner_rnn_best.pt!\n",
            "--------------------------------------------------\n",
            "Epoch 2/10\n"
          ]
        },
        {
          "output_type": "stream",
          "name": "stderr",
          "text": [
            "Training SimpleRNN: 100%|██████████| 4118/4118 [01:19<00:00, 51.89it/s, loss=0.4580]\n",
            "Evaluating SimpleRNN: 100%|██████████| 589/589 [01:04<00:00,  9.10it/s]\n"
          ]
        },
        {
          "output_type": "stream",
          "name": "stdout",
          "text": [
            "Train Loss: 0.4820, Validation Loss: 0.4015\n",
            "Validation Report:\n",
            "              precision    recall  f1-score   support\n",
            "\n",
            "       TAG_0     0.9472    0.9691    0.9580    365720\n",
            "       TAG_1     0.5501    0.5564    0.5533      6087\n",
            "       TAG_2     0.4114    0.4408    0.4256      6964\n",
            "       TAG_3     0.7810    0.3354    0.4692      6017\n",
            "       TAG_4     0.6163    0.6885    0.6504     20420\n",
            "       TAG_5     0.5402    0.5516    0.5458     23296\n",
            "       TAG_6     0.4655    0.1455    0.2217      9503\n",
            "       TAG_7     0.6593    0.7492    0.7014     19057\n",
            "       TAG_8     0.3131    0.0793    0.1266      6101\n",
            "\n",
            "    accuracy                         0.8765    463165\n",
            "   macro avg     0.5871    0.5018    0.5169    463165\n",
            "weighted avg     0.8666    0.8765    0.8674    463165\n",
            "\n",
            "Best model saved as ner_rnn_best.pt!\n",
            "--------------------------------------------------\n",
            "Epoch 3/10\n"
          ]
        },
        {
          "output_type": "stream",
          "name": "stderr",
          "text": [
            "Training SimpleRNN: 100%|██████████| 4118/4118 [01:19<00:00, 51.95it/s, loss=0.2933]\n",
            "Evaluating SimpleRNN: 100%|██████████| 589/589 [01:04<00:00,  9.16it/s]\n"
          ]
        },
        {
          "output_type": "stream",
          "name": "stdout",
          "text": [
            "Train Loss: 0.4246, Validation Loss: 0.3715\n",
            "Validation Report:\n",
            "              precision    recall  f1-score   support\n",
            "\n",
            "       TAG_0     0.9489    0.9702    0.9595    365720\n",
            "       TAG_1     0.6568    0.4924    0.5628      6087\n",
            "       TAG_2     0.5462    0.3947    0.4583      6964\n",
            "       TAG_3     0.7221    0.4406    0.5473      6017\n",
            "       TAG_4     0.6352    0.7321    0.6802     20420\n",
            "       TAG_5     0.6366    0.5440    0.5867     23296\n",
            "       TAG_6     0.5724    0.2517    0.3497      9503\n",
            "       TAG_7     0.7323    0.7477    0.7399     19057\n",
            "       TAG_8     0.2566    0.3742    0.3044      6101\n",
            "\n",
            "    accuracy                         0.8847    463165\n",
            "   macro avg     0.6341    0.5497    0.5765    463165\n",
            "weighted avg     0.8808    0.8847    0.8801    463165\n",
            "\n",
            "Best model saved as ner_rnn_best.pt!\n",
            "--------------------------------------------------\n",
            "Epoch 4/10\n"
          ]
        },
        {
          "output_type": "stream",
          "name": "stderr",
          "text": [
            "Training SimpleRNN: 100%|██████████| 4118/4118 [01:18<00:00, 52.34it/s, loss=0.4504]\n",
            "Evaluating SimpleRNN: 100%|██████████| 589/589 [01:04<00:00,  9.09it/s]\n"
          ]
        },
        {
          "output_type": "stream",
          "name": "stdout",
          "text": [
            "Train Loss: 0.3897, Validation Loss: 0.3471\n",
            "Validation Report:\n",
            "              precision    recall  f1-score   support\n",
            "\n",
            "       TAG_0     0.9593    0.9670    0.9631    365720\n",
            "       TAG_1     0.5670    0.5896    0.5781      6087\n",
            "       TAG_2     0.6248    0.3642    0.4601      6964\n",
            "       TAG_3     0.6571    0.5149    0.5773      6017\n",
            "       TAG_4     0.6798    0.7305    0.7042     20420\n",
            "       TAG_5     0.5936    0.6139    0.6036     23296\n",
            "       TAG_6     0.5663    0.3774    0.4529      9503\n",
            "       TAG_7     0.6720    0.8438    0.7482     19057\n",
            "       TAG_8     0.4602    0.2362    0.3122      6101\n",
            "\n",
            "    accuracy                         0.8921    463165\n",
            "   macro avg     0.6422    0.5819    0.6000    463165\n",
            "weighted avg     0.8880    0.8921    0.8881    463165\n",
            "\n",
            "Best model saved as ner_rnn_best.pt!\n",
            "--------------------------------------------------\n",
            "Epoch 5/10\n"
          ]
        },
        {
          "output_type": "stream",
          "name": "stderr",
          "text": [
            "Training SimpleRNN: 100%|██████████| 4118/4118 [01:19<00:00, 52.09it/s, loss=0.3232]\n",
            "Evaluating SimpleRNN: 100%|██████████| 589/589 [01:04<00:00,  9.15it/s]\n"
          ]
        },
        {
          "output_type": "stream",
          "name": "stdout",
          "text": [
            "Train Loss: 0.3670, Validation Loss: 0.3477\n",
            "Validation Report:\n",
            "              precision    recall  f1-score   support\n",
            "\n",
            "       TAG_0     0.9570    0.9699    0.9634    365720\n",
            "       TAG_1     0.5985    0.5674    0.5826      6087\n",
            "       TAG_2     0.6035    0.4090    0.4875      6964\n",
            "       TAG_3     0.6821    0.5056    0.5807      6017\n",
            "       TAG_4     0.6209    0.7913    0.6958     20420\n",
            "       TAG_5     0.6385    0.5645    0.5992     23296\n",
            "       TAG_6     0.5299    0.4310    0.4754      9503\n",
            "       TAG_7     0.7267    0.8100    0.7661     19057\n",
            "       TAG_8     0.4869    0.1582    0.2388      6101\n",
            "\n",
            "    accuracy                         0.8935    463165\n",
            "   macro avg     0.6493    0.5785    0.5988    463165\n",
            "weighted avg     0.8881    0.8935    0.8885    463165\n",
            "\n",
            "--------------------------------------------------\n",
            "Epoch 6/10\n"
          ]
        },
        {
          "output_type": "stream",
          "name": "stderr",
          "text": [
            "Training SimpleRNN: 100%|██████████| 4118/4118 [01:18<00:00, 52.27it/s, loss=0.4741]\n",
            "Evaluating SimpleRNN: 100%|██████████| 589/589 [01:05<00:00,  9.05it/s]\n"
          ]
        },
        {
          "output_type": "stream",
          "name": "stdout",
          "text": [
            "Train Loss: 0.3487, Validation Loss: 0.3277\n",
            "Validation Report:\n",
            "              precision    recall  f1-score   support\n",
            "\n",
            "       TAG_0     0.9641    0.9666    0.9653    365720\n",
            "       TAG_1     0.6123    0.6217    0.6169      6087\n",
            "       TAG_2     0.5811    0.4510    0.5079      6964\n",
            "       TAG_3     0.6360    0.5438    0.5863      6017\n",
            "       TAG_4     0.6838    0.7457    0.7134     20420\n",
            "       TAG_5     0.6368    0.6270    0.6318     23296\n",
            "       TAG_6     0.6324    0.3920    0.4840      9503\n",
            "       TAG_7     0.7449    0.8372    0.7884     19057\n",
            "       TAG_8     0.3690    0.4389    0.4010      6101\n",
            "\n",
            "    accuracy                         0.8979    463165\n",
            "   macro avg     0.6512    0.6249    0.6328    463165\n",
            "weighted avg     0.8969    0.8979    0.8965    463165\n",
            "\n",
            "Best model saved as ner_rnn_best.pt!\n",
            "--------------------------------------------------\n",
            "Epoch 7/10\n"
          ]
        },
        {
          "output_type": "stream",
          "name": "stderr",
          "text": [
            "Training SimpleRNN: 100%|██████████| 4118/4118 [01:18<00:00, 52.17it/s, loss=0.3058]\n",
            "Evaluating SimpleRNN: 100%|██████████| 589/589 [01:04<00:00,  9.13it/s]\n"
          ]
        },
        {
          "output_type": "stream",
          "name": "stdout",
          "text": [
            "Train Loss: 0.3351, Validation Loss: 0.3245\n",
            "Validation Report:\n",
            "              precision    recall  f1-score   support\n",
            "\n",
            "       TAG_0     0.9655    0.9652    0.9654    365720\n",
            "       TAG_1     0.6009    0.6281    0.6142      6087\n",
            "       TAG_2     0.5877    0.4358    0.5005      6964\n",
            "       TAG_3     0.6698    0.5411    0.5986      6017\n",
            "       TAG_4     0.6964    0.7477    0.7212     20420\n",
            "       TAG_5     0.6198    0.6594    0.6390     23296\n",
            "       TAG_6     0.6789    0.3645    0.4744      9503\n",
            "       TAG_7     0.7802    0.8188    0.7990     19057\n",
            "       TAG_8     0.3125    0.4783    0.3780      6101\n",
            "\n",
            "    accuracy                         0.8976    463165\n",
            "   macro avg     0.6569    0.6265    0.6322    463165\n",
            "weighted avg     0.8998    0.8976    0.8972    463165\n",
            "\n",
            "Best model saved as ner_rnn_best.pt!\n",
            "--------------------------------------------------\n",
            "Epoch 8/10\n"
          ]
        },
        {
          "output_type": "stream",
          "name": "stderr",
          "text": [
            "Training SimpleRNN: 100%|██████████| 4118/4118 [01:19<00:00, 51.71it/s, loss=0.2836]\n",
            "Evaluating SimpleRNN: 100%|██████████| 589/589 [01:04<00:00,  9.14it/s]\n"
          ]
        },
        {
          "output_type": "stream",
          "name": "stdout",
          "text": [
            "Train Loss: 0.3227, Validation Loss: 0.3203\n",
            "Validation Report:\n",
            "              precision    recall  f1-score   support\n",
            "\n",
            "       TAG_0     0.9698    0.9628    0.9663    365720\n",
            "       TAG_1     0.6208    0.6410    0.6308      6087\n",
            "       TAG_2     0.5623    0.4889    0.5231      6964\n",
            "       TAG_3     0.6798    0.5508    0.6085      6017\n",
            "       TAG_4     0.7512    0.6904    0.7195     20420\n",
            "       TAG_5     0.5974    0.6914    0.6409     23296\n",
            "       TAG_6     0.6251    0.4555    0.5270      9503\n",
            "       TAG_7     0.7777    0.8338    0.8047     19057\n",
            "       TAG_8     0.3259    0.5247    0.4021      6101\n",
            "\n",
            "    accuracy                         0.8989    463165\n",
            "   macro avg     0.6567    0.6488    0.6470    463165\n",
            "weighted avg     0.9035    0.8989    0.9002    463165\n",
            "\n",
            "Best model saved as ner_rnn_best.pt!\n",
            "--------------------------------------------------\n",
            "Epoch 9/10\n"
          ]
        },
        {
          "output_type": "stream",
          "name": "stderr",
          "text": [
            "Training SimpleRNN: 100%|██████████| 4118/4118 [01:19<00:00, 52.11it/s, loss=0.2791]\n",
            "Evaluating SimpleRNN: 100%|██████████| 589/589 [01:05<00:00,  9.02it/s]\n"
          ]
        },
        {
          "output_type": "stream",
          "name": "stdout",
          "text": [
            "Train Loss: 0.3131, Validation Loss: 0.3302\n",
            "Validation Report:\n",
            "              precision    recall  f1-score   support\n",
            "\n",
            "       TAG_0     0.9671    0.9651    0.9661    365720\n",
            "       TAG_1     0.7108    0.3562    0.4746      6087\n",
            "       TAG_2     0.6070    0.4418    0.5114      6964\n",
            "       TAG_3     0.6690    0.5425    0.5991      6017\n",
            "       TAG_4     0.7095    0.7339    0.7215     20420\n",
            "       TAG_5     0.6237    0.6626    0.6425     23296\n",
            "       TAG_6     0.6584    0.4429    0.5296      9503\n",
            "       TAG_7     0.7934    0.8264    0.8095     19057\n",
            "       TAG_8     0.2678    0.5743    0.3653      6101\n",
            "\n",
            "    accuracy                         0.8967    463165\n",
            "   macro avg     0.6674    0.6162    0.6244    463165\n",
            "weighted avg     0.9031    0.8967    0.8976    463165\n",
            "\n",
            "--------------------------------------------------\n",
            "Epoch 10/10\n"
          ]
        },
        {
          "output_type": "stream",
          "name": "stderr",
          "text": [
            "Training SimpleRNN: 100%|██████████| 4118/4118 [01:19<00:00, 52.05it/s, loss=0.3580]\n",
            "Evaluating SimpleRNN: 100%|██████████| 589/589 [01:04<00:00,  9.09it/s]\n"
          ]
        },
        {
          "output_type": "stream",
          "name": "stdout",
          "text": [
            "Train Loss: 0.3041, Validation Loss: 0.3219\n",
            "Validation Report:\n",
            "              precision    recall  f1-score   support\n",
            "\n",
            "       TAG_0     0.9682    0.9644    0.9663    365720\n",
            "       TAG_1     0.6961    0.5587    0.6199      6087\n",
            "       TAG_2     0.5773    0.4968    0.5341      6964\n",
            "       TAG_3     0.7296    0.5242    0.6101      6017\n",
            "       TAG_4     0.7151    0.7438    0.7292     20420\n",
            "       TAG_5     0.6345    0.6675    0.6506     23296\n",
            "       TAG_6     0.6942    0.4149    0.5194      9503\n",
            "       TAG_7     0.8099    0.8148    0.8124     19057\n",
            "       TAG_8     0.2853    0.6107    0.3889      6101\n",
            "\n",
            "    accuracy                         0.8996    463165\n",
            "   macro avg     0.6789    0.6440    0.6479    463165\n",
            "weighted avg     0.9066    0.8996    0.9012    463165\n",
            "\n",
            "--------------------------------------------------\n",
            "Testing the best SimpleRNN model...\n"
          ]
        },
        {
          "output_type": "stream",
          "name": "stderr",
          "text": [
            "Evaluating SimpleRNN: 100%|██████████| 1177/1177 [02:09<00:00,  9.09it/s]\n"
          ]
        },
        {
          "output_type": "stream",
          "name": "stdout",
          "text": [
            "Test Loss: 0.3192\n",
            "Test Report:\n",
            "              precision    recall  f1-score   support\n",
            "\n",
            "       TAG_0     0.9703    0.9629    0.9666    727795\n",
            "       TAG_1     0.6114    0.6523    0.6312     12150\n",
            "       TAG_2     0.5622    0.4873    0.5220     13892\n",
            "       TAG_3     0.6739    0.5443    0.6022     12162\n",
            "       TAG_4     0.7566    0.6969    0.7256     40976\n",
            "       TAG_5     0.5962    0.6852    0.6376     46103\n",
            "       TAG_6     0.6135    0.4663    0.5299     17839\n",
            "       TAG_7     0.7784    0.8257    0.8014     37221\n",
            "       TAG_8     0.3457    0.5434    0.4226     12697\n",
            "\n",
            "    accuracy                         0.8994    920835\n",
            "   macro avg     0.6565    0.6516    0.6488    920835\n",
            "weighted avg     0.9040    0.8994    0.9008    920835\n",
            "\n",
            "\n",
            "==================== Training LSTM ====================\n",
            "\n",
            "Starting training LSTM...\n",
            "Epoch 1/10\n"
          ]
        },
        {
          "output_type": "stream",
          "name": "stderr",
          "text": [
            "Training LSTM: 100%|██████████| 4118/4118 [02:00<00:00, 34.30it/s, loss=0.4629]\n",
            "Evaluating LSTM: 100%|██████████| 589/589 [01:08<00:00,  8.59it/s]\n"
          ]
        },
        {
          "output_type": "stream",
          "name": "stdout",
          "text": [
            "Train Loss: 0.6052, Validation Loss: 0.4285\n",
            "Validation Report:\n",
            "              precision    recall  f1-score   support\n",
            "\n",
            "       TAG_0     0.9284    0.9677    0.9476    365720\n",
            "       TAG_1     0.5026    0.6376    0.5621      6087\n",
            "       TAG_2     0.5593    0.2879    0.3801      6964\n",
            "       TAG_3     0.6268    0.4165    0.5004      6017\n",
            "       TAG_4     0.6526    0.6106    0.6309     20420\n",
            "       TAG_5     0.5099    0.5534    0.5307     23296\n",
            "       TAG_6     0.6565    0.0565    0.1041      9503\n",
            "       TAG_7     0.6054    0.6730    0.6374     19057\n",
            "       TAG_8     0.4484    0.0185    0.0356      6101\n",
            "\n",
            "    accuracy                         0.8661    463165\n",
            "   macro avg     0.6100    0.4691    0.4810    463165\n",
            "weighted avg     0.8549    0.8661    0.8512    463165\n",
            "\n",
            "Best model saved as ner_lstm_best.pt!\n",
            "--------------------------------------------------\n",
            "Epoch 2/10\n"
          ]
        },
        {
          "output_type": "stream",
          "name": "stderr",
          "text": [
            "Training LSTM: 100%|██████████| 4118/4118 [01:58<00:00, 34.83it/s, loss=0.5889]\n",
            "Evaluating LSTM: 100%|██████████| 589/589 [01:08<00:00,  8.64it/s]\n"
          ]
        },
        {
          "output_type": "stream",
          "name": "stdout",
          "text": [
            "Train Loss: 0.4504, Validation Loss: 0.3647\n",
            "Validation Report:\n",
            "              precision    recall  f1-score   support\n",
            "\n",
            "       TAG_0     0.9520    0.9661    0.9590    365720\n",
            "       TAG_1     0.5767    0.6481    0.6103      6087\n",
            "       TAG_2     0.5957    0.3992    0.4780      6964\n",
            "       TAG_3     0.6246    0.5087    0.5607      6017\n",
            "       TAG_4     0.6985    0.6773    0.6877     20420\n",
            "       TAG_5     0.5332    0.6392    0.5814     23296\n",
            "       TAG_6     0.6782    0.2291    0.3425      9503\n",
            "       TAG_7     0.6561    0.7816    0.7133     19057\n",
            "       TAG_8     0.4895    0.1606    0.2419      6101\n",
            "\n",
            "    accuracy                         0.8849    463165\n",
            "   macro avg     0.6449    0.5566    0.5750    463165\n",
            "weighted avg     0.8813    0.8849    0.8788    463165\n",
            "\n",
            "Best model saved as ner_lstm_best.pt!\n",
            "--------------------------------------------------\n",
            "Epoch 3/10\n"
          ]
        },
        {
          "output_type": "stream",
          "name": "stderr",
          "text": [
            "Training LSTM: 100%|██████████| 4118/4118 [01:58<00:00, 34.78it/s, loss=0.3294]\n",
            "Evaluating LSTM: 100%|██████████| 589/589 [01:08<00:00,  8.64it/s]\n"
          ]
        },
        {
          "output_type": "stream",
          "name": "stdout",
          "text": [
            "Train Loss: 0.3957, Validation Loss: 0.3352\n",
            "Validation Report:\n",
            "              precision    recall  f1-score   support\n",
            "\n",
            "       TAG_0     0.9604    0.9658    0.9631    365720\n",
            "       TAG_1     0.6193    0.6348    0.6270      6087\n",
            "       TAG_2     0.5933    0.4279    0.4972      6964\n",
            "       TAG_3     0.6696    0.5135    0.5813      6017\n",
            "       TAG_4     0.6887    0.7375    0.7123     20420\n",
            "       TAG_5     0.5541    0.6650    0.6045     23296\n",
            "       TAG_6     0.6560    0.3444    0.4517      9503\n",
            "       TAG_7     0.7021    0.8115    0.7528     19057\n",
            "       TAG_8     0.5857    0.2565    0.3568      6101\n",
            "\n",
            "    accuracy                         0.8939    463165\n",
            "   macro avg     0.6699    0.5952    0.6163    463165\n",
            "weighted avg     0.8924    0.8939    0.8905    463165\n",
            "\n",
            "Best model saved as ner_lstm_best.pt!\n",
            "--------------------------------------------------\n",
            "Epoch 4/10\n"
          ]
        },
        {
          "output_type": "stream",
          "name": "stderr",
          "text": [
            "Training LSTM: 100%|██████████| 4118/4118 [01:57<00:00, 34.92it/s, loss=0.3542]\n",
            "Evaluating LSTM: 100%|██████████| 589/589 [01:08<00:00,  8.66it/s]\n"
          ]
        },
        {
          "output_type": "stream",
          "name": "stdout",
          "text": [
            "Train Loss: 0.3633, Validation Loss: 0.3213\n",
            "Validation Report:\n",
            "              precision    recall  f1-score   support\n",
            "\n",
            "       TAG_0     0.9668    0.9647    0.9658    365720\n",
            "       TAG_1     0.6133    0.6598    0.6357      6087\n",
            "       TAG_2     0.5587    0.4897    0.5219      6964\n",
            "       TAG_3     0.7156    0.5102    0.5957      6017\n",
            "       TAG_4     0.7095    0.7353    0.7222     20420\n",
            "       TAG_5     0.5778    0.6727    0.6216     23296\n",
            "       TAG_6     0.6632    0.3951    0.4952      9503\n",
            "       TAG_7     0.6871    0.8543    0.7616     19057\n",
            "       TAG_8     0.5723    0.3432    0.4291      6101\n",
            "\n",
            "    accuracy                         0.8984    463165\n",
            "   macro avg     0.6738    0.6250    0.6388    463165\n",
            "weighted avg     0.8989    0.8984    0.8968    463165\n",
            "\n",
            "Best model saved as ner_lstm_best.pt!\n",
            "--------------------------------------------------\n",
            "Epoch 5/10\n"
          ]
        },
        {
          "output_type": "stream",
          "name": "stderr",
          "text": [
            "Training LSTM: 100%|██████████| 4118/4118 [01:57<00:00, 34.91it/s, loss=0.4890]\n",
            "Evaluating LSTM: 100%|██████████| 589/589 [01:07<00:00,  8.69it/s]\n"
          ]
        },
        {
          "output_type": "stream",
          "name": "stdout",
          "text": [
            "Train Loss: 0.3411, Validation Loss: 0.3024\n",
            "Validation Report:\n",
            "              precision    recall  f1-score   support\n",
            "\n",
            "       TAG_0     0.9653    0.9689    0.9671    365720\n",
            "       TAG_1     0.6506    0.6677    0.6590      6087\n",
            "       TAG_2     0.6549    0.4314    0.5201      6964\n",
            "       TAG_3     0.6820    0.5730    0.6228      6017\n",
            "       TAG_4     0.7040    0.7606    0.7312     20420\n",
            "       TAG_5     0.6022    0.6845    0.6407     23296\n",
            "       TAG_6     0.6745    0.4202    0.5178      9503\n",
            "       TAG_7     0.7342    0.8485    0.7872     19057\n",
            "       TAG_8     0.6372    0.3858    0.4807      6101\n",
            "\n",
            "    accuracy                         0.9043    463165\n",
            "   macro avg     0.7005    0.6378    0.6585    463165\n",
            "weighted avg     0.9032    0.9043    0.9020    463165\n",
            "\n",
            "Best model saved as ner_lstm_best.pt!\n",
            "--------------------------------------------------\n",
            "Epoch 6/10\n"
          ]
        },
        {
          "output_type": "stream",
          "name": "stderr",
          "text": [
            "Training LSTM: 100%|██████████| 4118/4118 [01:58<00:00, 34.83it/s, loss=0.3525]\n",
            "Evaluating LSTM: 100%|██████████| 589/589 [01:08<00:00,  8.63it/s]\n"
          ]
        },
        {
          "output_type": "stream",
          "name": "stdout",
          "text": [
            "Train Loss: 0.3233, Validation Loss: 0.3003\n",
            "Validation Report:\n",
            "              precision    recall  f1-score   support\n",
            "\n",
            "       TAG_0     0.9708    0.9659    0.9683    365720\n",
            "       TAG_1     0.6412    0.6744    0.6574      6087\n",
            "       TAG_2     0.6536    0.4347    0.5221      6964\n",
            "       TAG_3     0.6873    0.5745    0.6259      6017\n",
            "       TAG_4     0.6988    0.7807    0.7374     20420\n",
            "       TAG_5     0.5973    0.6987    0.6441     23296\n",
            "       TAG_6     0.6616    0.4621    0.5441      9503\n",
            "       TAG_7     0.7192    0.8712    0.7879     19057\n",
            "       TAG_8     0.6849    0.3852    0.4931      6101\n",
            "\n",
            "    accuracy                         0.9055    463165\n",
            "   macro avg     0.7016    0.6497    0.6645    463165\n",
            "weighted avg     0.9067    0.9055    0.9042    463165\n",
            "\n",
            "Best model saved as ner_lstm_best.pt!\n",
            "--------------------------------------------------\n",
            "Epoch 7/10\n"
          ]
        },
        {
          "output_type": "stream",
          "name": "stderr",
          "text": [
            "Training LSTM: 100%|██████████| 4118/4118 [01:58<00:00, 34.81it/s, loss=0.3499]\n",
            "Evaluating LSTM: 100%|██████████| 589/589 [01:08<00:00,  8.56it/s]\n"
          ]
        },
        {
          "output_type": "stream",
          "name": "stdout",
          "text": [
            "Train Loss: 0.3090, Validation Loss: 0.2901\n",
            "Validation Report:\n",
            "              precision    recall  f1-score   support\n",
            "\n",
            "       TAG_0     0.9704    0.9678    0.9691    365720\n",
            "       TAG_1     0.6926    0.6576    0.6746      6087\n",
            "       TAG_2     0.5976    0.5146    0.5530      6964\n",
            "       TAG_3     0.6968    0.5672    0.6254      6017\n",
            "       TAG_4     0.7157    0.7682    0.7410     20420\n",
            "       TAG_5     0.6175    0.7068    0.6591     23296\n",
            "       TAG_6     0.6778    0.4605    0.5484      9503\n",
            "       TAG_7     0.7386    0.8723    0.7999     19057\n",
            "       TAG_8     0.6488    0.4471    0.5294      6101\n",
            "\n",
            "    accuracy                         0.9086    463165\n",
            "   macro avg     0.7062    0.6625    0.6778    463165\n",
            "weighted avg     0.9089    0.9086    0.9075    463165\n",
            "\n",
            "Best model saved as ner_lstm_best.pt!\n",
            "--------------------------------------------------\n",
            "Epoch 8/10\n"
          ]
        },
        {
          "output_type": "stream",
          "name": "stderr",
          "text": [
            "Training LSTM: 100%|██████████| 4118/4118 [01:57<00:00, 34.91it/s, loss=0.2472]\n",
            "Evaluating LSTM: 100%|██████████| 589/589 [01:08<00:00,  8.62it/s]\n"
          ]
        },
        {
          "output_type": "stream",
          "name": "stdout",
          "text": [
            "Train Loss: 0.2976, Validation Loss: 0.2859\n",
            "Validation Report:\n",
            "              precision    recall  f1-score   support\n",
            "\n",
            "       TAG_0     0.9724    0.9667    0.9695    365720\n",
            "       TAG_1     0.6519    0.6718    0.6617      6087\n",
            "       TAG_2     0.5835    0.5425    0.5622      6964\n",
            "       TAG_3     0.6657    0.6016    0.6320      6017\n",
            "       TAG_4     0.7144    0.7786    0.7451     20420\n",
            "       TAG_5     0.6316    0.7019    0.6649     23296\n",
            "       TAG_6     0.6820    0.4882    0.5690      9503\n",
            "       TAG_7     0.7476    0.8793    0.8081     19057\n",
            "       TAG_8     0.6811    0.4527    0.5439      6101\n",
            "\n",
            "    accuracy                         0.9099    463165\n",
            "   macro avg     0.7034    0.6759    0.6841    463165\n",
            "weighted avg     0.9108    0.9099    0.9093    463165\n",
            "\n",
            "Best model saved as ner_lstm_best.pt!\n",
            "--------------------------------------------------\n",
            "Epoch 9/10\n"
          ]
        },
        {
          "output_type": "stream",
          "name": "stderr",
          "text": [
            "Training LSTM: 100%|██████████| 4118/4118 [01:57<00:00, 35.00it/s, loss=0.2701]\n",
            "Evaluating LSTM: 100%|██████████| 589/589 [01:08<00:00,  8.61it/s]\n"
          ]
        },
        {
          "output_type": "stream",
          "name": "stdout",
          "text": [
            "Train Loss: 0.2883, Validation Loss: 0.2800\n",
            "Validation Report:\n",
            "              precision    recall  f1-score   support\n",
            "\n",
            "       TAG_0     0.9723    0.9674    0.9698    365720\n",
            "       TAG_1     0.6968    0.6506    0.6729      6087\n",
            "       TAG_2     0.6276    0.5148    0.5656      6964\n",
            "       TAG_3     0.6762    0.6061    0.6393      6017\n",
            "       TAG_4     0.7253    0.7804    0.7518     20420\n",
            "       TAG_5     0.6394    0.7041    0.6702     23296\n",
            "       TAG_6     0.6467    0.5376    0.5871      9503\n",
            "       TAG_7     0.7443    0.8870    0.8094     19057\n",
            "       TAG_8     0.6661    0.4650    0.5477      6101\n",
            "\n",
            "    accuracy                         0.9115    463165\n",
            "   macro avg     0.7105    0.6792    0.6904    463165\n",
            "weighted avg     0.9119    0.9115    0.9109    463165\n",
            "\n",
            "Best model saved as ner_lstm_best.pt!\n",
            "--------------------------------------------------\n",
            "Epoch 10/10\n"
          ]
        },
        {
          "output_type": "stream",
          "name": "stderr",
          "text": [
            "Training LSTM: 100%|██████████| 4118/4118 [01:57<00:00, 34.98it/s, loss=0.2195]\n",
            "Evaluating LSTM: 100%|██████████| 589/589 [01:08<00:00,  8.57it/s]\n"
          ]
        },
        {
          "output_type": "stream",
          "name": "stdout",
          "text": [
            "Train Loss: 0.2795, Validation Loss: 0.2844\n",
            "Validation Report:\n",
            "              precision    recall  f1-score   support\n",
            "\n",
            "       TAG_0     0.9730    0.9675    0.9703    365720\n",
            "       TAG_1     0.7127    0.6473    0.6784      6087\n",
            "       TAG_2     0.6059    0.5221    0.5609      6964\n",
            "       TAG_3     0.6801    0.5968    0.6357      6017\n",
            "       TAG_4     0.7209    0.7825    0.7504     20420\n",
            "       TAG_5     0.6200    0.7262    0.6689     23296\n",
            "       TAG_6     0.6910    0.5014    0.5811      9503\n",
            "       TAG_7     0.7441    0.8892    0.8102     19057\n",
            "       TAG_8     0.7224    0.4275    0.5371      6101\n",
            "\n",
            "    accuracy                         0.9116    463165\n",
            "   macro avg     0.7189    0.6734    0.6881    463165\n",
            "weighted avg     0.9129    0.9116    0.9108    463165\n",
            "\n",
            "--------------------------------------------------\n",
            "Testing the best LSTM model...\n"
          ]
        },
        {
          "output_type": "stream",
          "name": "stderr",
          "text": [
            "Evaluating LSTM: 100%|██████████| 1177/1177 [02:17<00:00,  8.59it/s]\n"
          ]
        },
        {
          "output_type": "stream",
          "name": "stdout",
          "text": [
            "Test Loss: 0.2798\n",
            "Test Report:\n",
            "              precision    recall  f1-score   support\n",
            "\n",
            "       TAG_0     0.9724    0.9676    0.9700    727795\n",
            "       TAG_1     0.6998    0.6680    0.6835     12150\n",
            "       TAG_2     0.6133    0.4970    0.5491     13892\n",
            "       TAG_3     0.6803    0.6018    0.6387     12162\n",
            "       TAG_4     0.7279    0.7814    0.7537     40976\n",
            "       TAG_5     0.6334    0.6969    0.6636     46103\n",
            "       TAG_6     0.6414    0.5407    0.5868     17839\n",
            "       TAG_7     0.7404    0.8816    0.8049     37221\n",
            "       TAG_8     0.6938    0.4898    0.5742     12697\n",
            "\n",
            "    accuracy                         0.9115    920835\n",
            "   macro avg     0.7114    0.6805    0.6916    920835\n",
            "weighted avg     0.9120    0.9115    0.9110    920835\n",
            "\n",
            "\n",
            "==================== Training BIRNN ====================\n",
            "\n",
            "Starting training BiRNN...\n",
            "Epoch 1/10\n"
          ]
        },
        {
          "output_type": "stream",
          "name": "stderr",
          "text": [
            "Training BiRNN: 100%|██████████| 4118/4118 [01:42<00:00, 40.31it/s, loss=0.4195]\n",
            "Evaluating BiRNN: 100%|██████████| 589/589 [01:07<00:00,  8.73it/s]\n"
          ]
        },
        {
          "output_type": "stream",
          "name": "stdout",
          "text": [
            "Train Loss: 0.6002, Validation Loss: 0.4083\n",
            "Validation Report:\n",
            "              precision    recall  f1-score   support\n",
            "\n",
            "       TAG_0     0.9224    0.9785    0.9496    365720\n",
            "       TAG_1     0.6030    0.6157    0.6093      6087\n",
            "       TAG_2     0.7636    0.4609    0.5749      6964\n",
            "       TAG_3     0.6856    0.4883    0.5704      6017\n",
            "       TAG_4     0.7795    0.5424    0.6397     20420\n",
            "       TAG_5     0.6386    0.5538    0.5932     23296\n",
            "       TAG_6     0.5196    0.1644    0.2497      9503\n",
            "       TAG_7     0.5899    0.7124    0.6454     19057\n",
            "       TAG_8     0.2727    0.0039    0.0078      6101\n",
            "\n",
            "    accuracy                         0.8785    463165\n",
            "   macro avg     0.6417    0.5023    0.5378    463165\n",
            "weighted avg     0.8617    0.8785    0.8637    463165\n",
            "\n",
            "Best model saved as ner_birnn_best.pt!\n",
            "--------------------------------------------------\n",
            "Epoch 2/10\n"
          ]
        },
        {
          "output_type": "stream",
          "name": "stderr",
          "text": [
            "Training BiRNN: 100%|██████████| 4118/4118 [01:41<00:00, 40.56it/s, loss=0.3318]\n",
            "Evaluating BiRNN: 100%|██████████| 589/589 [01:07<00:00,  8.66it/s]\n"
          ]
        },
        {
          "output_type": "stream",
          "name": "stdout",
          "text": [
            "Train Loss: 0.4304, Validation Loss: 0.3564\n",
            "Validation Report:\n",
            "              precision    recall  f1-score   support\n",
            "\n",
            "       TAG_0     0.9275    0.9834    0.9546    365720\n",
            "       TAG_1     0.6431    0.6013    0.6215      6087\n",
            "       TAG_2     0.7938    0.4910    0.6067      6964\n",
            "       TAG_3     0.7354    0.5621    0.6372      6017\n",
            "       TAG_4     0.7349    0.7074    0.7209     20420\n",
            "       TAG_5     0.7594    0.5609    0.6453     23296\n",
            "       TAG_6     0.7546    0.1857    0.2981      9503\n",
            "       TAG_7     0.6919    0.7302    0.7105     19057\n",
            "       TAG_8     0.3955    0.0974    0.1563      6101\n",
            "\n",
            "    accuracy                         0.8936    463165\n",
            "   macro avg     0.7151    0.5466    0.5946    463165\n",
            "weighted avg     0.8821    0.8936    0.8810    463165\n",
            "\n",
            "Best model saved as ner_birnn_best.pt!\n",
            "--------------------------------------------------\n",
            "Epoch 3/10\n"
          ]
        },
        {
          "output_type": "stream",
          "name": "stderr",
          "text": [
            "Training BiRNN: 100%|██████████| 4118/4118 [01:41<00:00, 40.75it/s, loss=0.2950]\n",
            "Evaluating BiRNN: 100%|██████████| 589/589 [01:07<00:00,  8.76it/s]\n"
          ]
        },
        {
          "output_type": "stream",
          "name": "stdout",
          "text": [
            "Train Loss: 0.3674, Validation Loss: 0.3073\n",
            "Validation Report:\n",
            "              precision    recall  f1-score   support\n",
            "\n",
            "       TAG_0     0.9516    0.9768    0.9640    365720\n",
            "       TAG_1     0.6167    0.6616    0.6383      6087\n",
            "       TAG_2     0.8053    0.5279    0.6377      6964\n",
            "       TAG_3     0.6736    0.6485    0.6608      6017\n",
            "       TAG_4     0.7700    0.7453    0.7575     20420\n",
            "       TAG_5     0.7369    0.6427    0.6866     23296\n",
            "       TAG_6     0.5553    0.4258    0.4820      9503\n",
            "       TAG_7     0.7638    0.8140    0.7881     19057\n",
            "       TAG_8     0.5012    0.2644    0.3462      6101\n",
            "\n",
            "    accuracy                         0.9072    463165\n",
            "   macro avg     0.7083    0.6341    0.6624    463165\n",
            "weighted avg     0.9008    0.9072    0.9026    463165\n",
            "\n",
            "Best model saved as ner_birnn_best.pt!\n",
            "--------------------------------------------------\n",
            "Epoch 4/10\n"
          ]
        },
        {
          "output_type": "stream",
          "name": "stderr",
          "text": [
            "Training BiRNN: 100%|██████████| 4118/4118 [01:41<00:00, 40.65it/s, loss=0.2666]\n",
            "Evaluating BiRNN: 100%|██████████| 589/589 [01:07<00:00,  8.72it/s]\n"
          ]
        },
        {
          "output_type": "stream",
          "name": "stdout",
          "text": [
            "Train Loss: 0.3347, Validation Loss: 0.2944\n",
            "Validation Report:\n",
            "              precision    recall  f1-score   support\n",
            "\n",
            "       TAG_0     0.9520    0.9793    0.9655    365720\n",
            "       TAG_1     0.6485    0.6553    0.6519      6087\n",
            "       TAG_2     0.7484    0.6104    0.6724      6964\n",
            "       TAG_3     0.7947    0.5878    0.6758      6017\n",
            "       TAG_4     0.7853    0.7596    0.7722     20420\n",
            "       TAG_5     0.7198    0.6773    0.6979     23296\n",
            "       TAG_6     0.6619    0.4278    0.5197      9503\n",
            "       TAG_7     0.7848    0.8284    0.8060     19057\n",
            "       TAG_8     0.6145    0.2759    0.3808      6101\n",
            "\n",
            "    accuracy                         0.9128    463165\n",
            "   macro avg     0.7455    0.6446    0.6825    463165\n",
            "weighted avg     0.9066    0.9128    0.9078    463165\n",
            "\n",
            "Best model saved as ner_birnn_best.pt!\n",
            "--------------------------------------------------\n",
            "Epoch 5/10\n"
          ]
        },
        {
          "output_type": "stream",
          "name": "stderr",
          "text": [
            "Training BiRNN: 100%|██████████| 4118/4118 [01:40<00:00, 40.94it/s, loss=0.3283]\n",
            "Evaluating BiRNN: 100%|██████████| 589/589 [01:07<00:00,  8.71it/s]\n"
          ]
        },
        {
          "output_type": "stream",
          "name": "stdout",
          "text": [
            "Train Loss: 0.3122, Validation Loss: 0.2792\n",
            "Validation Report:\n",
            "              precision    recall  f1-score   support\n",
            "\n",
            "       TAG_0     0.9572    0.9782    0.9675    365720\n",
            "       TAG_1     0.6616    0.6683    0.6649      6087\n",
            "       TAG_2     0.7422    0.6259    0.6791      6964\n",
            "       TAG_3     0.7525    0.6256    0.6832      6017\n",
            "       TAG_4     0.7558    0.7993    0.7769     20420\n",
            "       TAG_5     0.7692    0.6487    0.7038     23296\n",
            "       TAG_6     0.6743    0.4468    0.5375      9503\n",
            "       TAG_7     0.7814    0.8562    0.8171     19057\n",
            "       TAG_8     0.5692    0.3709    0.4491      6101\n",
            "\n",
            "    accuracy                         0.9158    463165\n",
            "   macro avg     0.7404    0.6689    0.6977    463165\n",
            "weighted avg     0.9109    0.9158    0.9120    463165\n",
            "\n",
            "Best model saved as ner_birnn_best.pt!\n",
            "--------------------------------------------------\n",
            "Epoch 6/10\n"
          ]
        },
        {
          "output_type": "stream",
          "name": "stderr",
          "text": [
            "Training BiRNN: 100%|██████████| 4118/4118 [01:41<00:00, 40.71it/s, loss=0.3013]\n",
            "Evaluating BiRNN: 100%|██████████| 589/589 [01:07<00:00,  8.78it/s]\n"
          ]
        },
        {
          "output_type": "stream",
          "name": "stdout",
          "text": [
            "Train Loss: 0.2968, Validation Loss: 0.2705\n",
            "Validation Report:\n",
            "              precision    recall  f1-score   support\n",
            "\n",
            "       TAG_0     0.9639    0.9735    0.9687    365720\n",
            "       TAG_1     0.7584    0.6228    0.6839      6087\n",
            "       TAG_2     0.7592    0.6143    0.6791      6964\n",
            "       TAG_3     0.7480    0.6556    0.6988      6017\n",
            "       TAG_4     0.7723    0.7966    0.7843     20420\n",
            "       TAG_5     0.7104    0.7305    0.7203     23296\n",
            "       TAG_6     0.6019    0.5921    0.5970      9503\n",
            "       TAG_7     0.8507    0.8174    0.8337     19057\n",
            "       TAG_8     0.5457    0.4648    0.5020      6101\n",
            "\n",
            "    accuracy                         0.9184    463165\n",
            "   macro avg     0.7456    0.6964    0.7186    463165\n",
            "weighted avg     0.9165    0.9184    0.9171    463165\n",
            "\n",
            "Best model saved as ner_birnn_best.pt!\n",
            "--------------------------------------------------\n",
            "Epoch 7/10\n"
          ]
        },
        {
          "output_type": "stream",
          "name": "stderr",
          "text": [
            "Training BiRNN: 100%|██████████| 4118/4118 [01:41<00:00, 40.46it/s, loss=0.2431]\n",
            "Evaluating BiRNN: 100%|██████████| 589/589 [01:07<00:00,  8.71it/s]\n"
          ]
        },
        {
          "output_type": "stream",
          "name": "stdout",
          "text": [
            "Train Loss: 0.2858, Validation Loss: 0.2668\n",
            "Validation Report:\n",
            "              precision    recall  f1-score   support\n",
            "\n",
            "       TAG_0     0.9600    0.9776    0.9687    365720\n",
            "       TAG_1     0.7065    0.6691    0.6873      6087\n",
            "       TAG_2     0.7521    0.6239    0.6821      6964\n",
            "       TAG_3     0.7548    0.6548    0.7013      6017\n",
            "       TAG_4     0.7570    0.8167    0.7857     20420\n",
            "       TAG_5     0.7802    0.6681    0.7198     23296\n",
            "       TAG_6     0.6943    0.5147    0.5911      9503\n",
            "       TAG_7     0.8183    0.8501    0.8339     19057\n",
            "       TAG_8     0.5638    0.4758    0.5161      6101\n",
            "\n",
            "    accuracy                         0.9200    463165\n",
            "   macro avg     0.7541    0.6945    0.7207    463165\n",
            "weighted avg     0.9163    0.9200    0.9174    463165\n",
            "\n",
            "Best model saved as ner_birnn_best.pt!\n",
            "--------------------------------------------------\n",
            "Epoch 8/10\n"
          ]
        },
        {
          "output_type": "stream",
          "name": "stderr",
          "text": [
            "Training BiRNN: 100%|██████████| 4118/4118 [01:41<00:00, 40.58it/s, loss=0.3068]\n",
            "Evaluating BiRNN: 100%|██████████| 589/589 [01:07<00:00,  8.67it/s]\n"
          ]
        },
        {
          "output_type": "stream",
          "name": "stdout",
          "text": [
            "Train Loss: 0.2752, Validation Loss: 0.2615\n",
            "Validation Report:\n",
            "              precision    recall  f1-score   support\n",
            "\n",
            "       TAG_0     0.9606    0.9784    0.9694    365720\n",
            "       TAG_1     0.7418    0.6571    0.6969      6087\n",
            "       TAG_2     0.7392    0.6515    0.6926      6964\n",
            "       TAG_3     0.7886    0.6415    0.7075      6017\n",
            "       TAG_4     0.7921    0.7990    0.7955     20420\n",
            "       TAG_5     0.7566    0.6961    0.7251     23296\n",
            "       TAG_6     0.6841    0.5295    0.5970      9503\n",
            "       TAG_7     0.8033    0.8719    0.8362     19057\n",
            "       TAG_8     0.6371    0.4380    0.5191      6101\n",
            "\n",
            "    accuracy                         0.9220    463165\n",
            "   macro avg     0.7670    0.6959    0.7266    463165\n",
            "weighted avg     0.9181    0.9220    0.9193    463165\n",
            "\n",
            "Best model saved as ner_birnn_best.pt!\n",
            "--------------------------------------------------\n",
            "Epoch 9/10\n"
          ]
        },
        {
          "output_type": "stream",
          "name": "stderr",
          "text": [
            "Training BiRNN: 100%|██████████| 4118/4118 [01:41<00:00, 40.66it/s, loss=0.1919]\n",
            "Evaluating BiRNN: 100%|██████████| 589/589 [01:06<00:00,  8.80it/s]\n"
          ]
        },
        {
          "output_type": "stream",
          "name": "stdout",
          "text": [
            "Train Loss: 0.2691, Validation Loss: 0.2623\n",
            "Validation Report:\n",
            "              precision    recall  f1-score   support\n",
            "\n",
            "       TAG_0     0.9666    0.9744    0.9705    365720\n",
            "       TAG_1     0.6429    0.6916    0.6664      6087\n",
            "       TAG_2     0.7476    0.6252    0.6810      6964\n",
            "       TAG_3     0.7468    0.6804    0.7121      6017\n",
            "       TAG_4     0.7661    0.8119    0.7883     20420\n",
            "       TAG_5     0.7319    0.7127    0.7221     23296\n",
            "       TAG_6     0.7325    0.4911    0.5880      9503\n",
            "       TAG_7     0.8317    0.8650    0.8480     19057\n",
            "       TAG_8     0.5420    0.5424    0.5422      6101\n",
            "\n",
            "    accuracy                         0.9212    463165\n",
            "   macro avg     0.7454    0.7105    0.7243    463165\n",
            "weighted avg     0.9196    0.9212    0.9197    463165\n",
            "\n",
            "--------------------------------------------------\n",
            "Epoch 10/10\n"
          ]
        },
        {
          "output_type": "stream",
          "name": "stderr",
          "text": [
            "Training BiRNN: 100%|██████████| 4118/4118 [01:41<00:00, 40.61it/s, loss=0.2713]\n",
            "Evaluating BiRNN: 100%|██████████| 589/589 [01:07<00:00,  8.74it/s]\n"
          ]
        },
        {
          "output_type": "stream",
          "name": "stdout",
          "text": [
            "Train Loss: 0.2610, Validation Loss: 0.2539\n",
            "Validation Report:\n",
            "              precision    recall  f1-score   support\n",
            "\n",
            "       TAG_0     0.9663    0.9755    0.9709    365720\n",
            "       TAG_1     0.7011    0.6995    0.7003      6087\n",
            "       TAG_2     0.7369    0.6442    0.6874      6964\n",
            "       TAG_3     0.7551    0.6819    0.7166      6017\n",
            "       TAG_4     0.7917    0.8011    0.7964     20420\n",
            "       TAG_5     0.7550    0.7054    0.7293     23296\n",
            "       TAG_6     0.6840    0.5582    0.6148      9503\n",
            "       TAG_7     0.8106    0.8817    0.8446     19057\n",
            "       TAG_8     0.5910    0.5288    0.5581      6101\n",
            "\n",
            "    accuracy                         0.9235    463165\n",
            "   macro avg     0.7546    0.7196    0.7354    463165\n",
            "weighted avg     0.9211    0.9235    0.9220    463165\n",
            "\n",
            "Best model saved as ner_birnn_best.pt!\n",
            "--------------------------------------------------\n",
            "Testing the best BiRNN model...\n"
          ]
        },
        {
          "output_type": "stream",
          "name": "stderr",
          "text": [
            "Evaluating BiRNN: 100%|██████████| 1177/1177 [02:14<00:00,  8.72it/s]\n"
          ]
        },
        {
          "output_type": "stream",
          "name": "stdout",
          "text": [
            "Test Loss: 0.2523\n",
            "Test Report:\n",
            "              precision    recall  f1-score   support\n",
            "\n",
            "       TAG_0     0.9668    0.9751    0.9709    727795\n",
            "       TAG_1     0.7093    0.7067    0.7080     12150\n",
            "       TAG_2     0.7393    0.6635    0.6994     13892\n",
            "       TAG_3     0.7529    0.6787    0.7139     12162\n",
            "       TAG_4     0.7932    0.8004    0.7968     40976\n",
            "       TAG_5     0.7537    0.7005    0.7262     46103\n",
            "       TAG_6     0.6775    0.5758    0.6225     17839\n",
            "       TAG_7     0.8095    0.8745    0.8408     37221\n",
            "       TAG_8     0.6152    0.5675    0.5904     12697\n",
            "\n",
            "    accuracy                         0.9240    920835\n",
            "   macro avg     0.7575    0.7270    0.7410    920835\n",
            "weighted avg     0.9220    0.9240    0.9227    920835\n",
            "\n",
            "\n",
            "==================== Training BILSTM ====================\n",
            "\n",
            "Starting training BiLSTM...\n",
            "Epoch 1/10\n"
          ]
        },
        {
          "output_type": "stream",
          "name": "stderr",
          "text": [
            "Training BiLSTM: 100%|██████████| 4118/4118 [02:44<00:00, 25.03it/s, loss=0.4519]\n",
            "Evaluating BiLSTM: 100%|██████████| 589/589 [01:13<00:00,  8.01it/s]\n"
          ]
        },
        {
          "output_type": "stream",
          "name": "stdout",
          "text": [
            "Train Loss: 0.5216, Validation Loss: 0.3477\n",
            "Validation Report:\n",
            "              precision    recall  f1-score   support\n",
            "\n",
            "       TAG_0     0.9468    0.9669    0.9567    365720\n",
            "       TAG_1     0.6923    0.6691    0.6805      6087\n",
            "       TAG_2     0.5777    0.6717    0.6212      6964\n",
            "       TAG_3     0.7360    0.5458    0.6268      6017\n",
            "       TAG_4     0.6665    0.7291    0.6964     20420\n",
            "       TAG_5     0.6489    0.6371    0.6430     23296\n",
            "       TAG_6     0.7165    0.3047    0.4276      9503\n",
            "       TAG_7     0.7048    0.7493    0.7264     19057\n",
            "       TAG_8     0.4849    0.1369    0.2135      6101\n",
            "\n",
            "    accuracy                         0.8925    463165\n",
            "   macro avg     0.6860    0.6012    0.6213    463165\n",
            "weighted avg     0.8871    0.8925    0.8864    463165\n",
            "\n",
            "Best model saved as ner_bilstm_best.pt!\n",
            "--------------------------------------------------\n",
            "Epoch 2/10\n"
          ]
        },
        {
          "output_type": "stream",
          "name": "stderr",
          "text": [
            "Training BiLSTM: 100%|██████████| 4118/4118 [02:46<00:00, 24.71it/s, loss=0.3279]\n",
            "Evaluating BiLSTM: 100%|██████████| 589/589 [01:13<00:00,  7.98it/s]\n"
          ]
        },
        {
          "output_type": "stream",
          "name": "stdout",
          "text": [
            "Train Loss: 0.3661, Validation Loss: 0.2834\n",
            "Validation Report:\n",
            "              precision    recall  f1-score   support\n",
            "\n",
            "       TAG_0     0.9550    0.9733    0.9641    365720\n",
            "       TAG_1     0.6960    0.7046    0.7003      6087\n",
            "       TAG_2     0.7524    0.5999    0.6676      6964\n",
            "       TAG_3     0.7345    0.6295    0.6780      6017\n",
            "       TAG_4     0.7078    0.8054    0.7535     20420\n",
            "       TAG_5     0.7233    0.6713    0.6963     23296\n",
            "       TAG_6     0.7385    0.4169    0.5330      9503\n",
            "       TAG_7     0.7793    0.8165    0.7975     19057\n",
            "       TAG_8     0.6102    0.3368    0.4340      6101\n",
            "\n",
            "    accuracy                         0.9109    463165\n",
            "   macro avg     0.7441    0.6616    0.6916    463165\n",
            "weighted avg     0.9069    0.9109    0.9070    463165\n",
            "\n",
            "Best model saved as ner_bilstm_best.pt!\n",
            "--------------------------------------------------\n",
            "Epoch 3/10\n"
          ]
        },
        {
          "output_type": "stream",
          "name": "stderr",
          "text": [
            "Training BiLSTM: 100%|██████████| 4118/4118 [02:46<00:00, 24.70it/s, loss=0.2011]\n",
            "Evaluating BiLSTM: 100%|██████████| 589/589 [01:13<00:00,  8.01it/s]\n"
          ]
        },
        {
          "output_type": "stream",
          "name": "stdout",
          "text": [
            "Train Loss: 0.3136, Validation Loss: 0.2593\n",
            "Validation Report:\n",
            "              precision    recall  f1-score   support\n",
            "\n",
            "       TAG_0     0.9662    0.9700    0.9681    365720\n",
            "       TAG_1     0.7379    0.7091    0.7232      6087\n",
            "       TAG_2     0.7029    0.6880    0.6954      6964\n",
            "       TAG_3     0.7784    0.6497    0.7082      6017\n",
            "       TAG_4     0.7237    0.8272    0.7720     20420\n",
            "       TAG_5     0.7271    0.7048    0.7158     23296\n",
            "       TAG_6     0.7066    0.5293    0.6052      9503\n",
            "       TAG_7     0.7814    0.8671    0.8220     19057\n",
            "       TAG_8     0.6366    0.4311    0.5141      6101\n",
            "\n",
            "    accuracy                         0.9182    463165\n",
            "   macro avg     0.7512    0.7085    0.7249    463165\n",
            "weighted avg     0.9168    0.9182    0.9166    463165\n",
            "\n",
            "Best model saved as ner_bilstm_best.pt!\n",
            "--------------------------------------------------\n",
            "Epoch 4/10\n"
          ]
        },
        {
          "output_type": "stream",
          "name": "stderr",
          "text": [
            "Training BiLSTM: 100%|██████████| 4118/4118 [02:46<00:00, 24.75it/s, loss=0.1801]\n",
            "Evaluating BiLSTM: 100%|██████████| 589/589 [01:13<00:00,  7.99it/s]\n"
          ]
        },
        {
          "output_type": "stream",
          "name": "stdout",
          "text": [
            "Train Loss: 0.2825, Validation Loss: 0.2463\n",
            "Validation Report:\n",
            "              precision    recall  f1-score   support\n",
            "\n",
            "       TAG_0     0.9728    0.9673    0.9701    365720\n",
            "       TAG_1     0.7436    0.7362    0.7399      6087\n",
            "       TAG_2     0.7238    0.6687    0.6952      6964\n",
            "       TAG_3     0.7379    0.6895    0.7129      6017\n",
            "       TAG_4     0.7179    0.8465    0.7769     20420\n",
            "       TAG_5     0.7345    0.7196    0.7270     23296\n",
            "       TAG_6     0.6765    0.6007    0.6363      9503\n",
            "       TAG_7     0.7833    0.8860    0.8315     19057\n",
            "       TAG_8     0.6592    0.4891    0.5615      6101\n",
            "\n",
            "    accuracy                         0.9212    463165\n",
            "   macro avg     0.7499    0.7337    0.7390    463165\n",
            "weighted avg     0.9218    0.9212    0.9209    463165\n",
            "\n",
            "Best model saved as ner_bilstm_best.pt!\n",
            "--------------------------------------------------\n",
            "Epoch 5/10\n"
          ]
        },
        {
          "output_type": "stream",
          "name": "stderr",
          "text": [
            "Training BiLSTM: 100%|██████████| 4118/4118 [02:46<00:00, 24.68it/s, loss=0.2364]\n",
            "Evaluating BiLSTM: 100%|██████████| 589/589 [01:13<00:00,  8.04it/s]\n"
          ]
        },
        {
          "output_type": "stream",
          "name": "stdout",
          "text": [
            "Train Loss: 0.2612, Validation Loss: 0.2388\n",
            "Validation Report:\n",
            "              precision    recall  f1-score   support\n",
            "\n",
            "       TAG_0     0.9732    0.9692    0.9712    365720\n",
            "       TAG_1     0.7516    0.7470    0.7493      6087\n",
            "       TAG_2     0.7489    0.6847    0.7153      6964\n",
            "       TAG_3     0.7199    0.7303    0.7250      6017\n",
            "       TAG_4     0.7457    0.8453    0.7924     20420\n",
            "       TAG_5     0.7509    0.7235    0.7369     23296\n",
            "       TAG_6     0.6699    0.6401    0.6546      9503\n",
            "       TAG_7     0.7839    0.9018    0.8387     19057\n",
            "       TAG_8     0.7333    0.4616    0.5665      6101\n",
            "\n",
            "    accuracy                         0.9249    463165\n",
            "   macro avg     0.7641    0.7448    0.7500    463165\n",
            "weighted avg     0.9253    0.9249    0.9243    463165\n",
            "\n",
            "Best model saved as ner_bilstm_best.pt!\n",
            "--------------------------------------------------\n",
            "Epoch 6/10\n"
          ]
        },
        {
          "output_type": "stream",
          "name": "stderr",
          "text": [
            "Training BiLSTM: 100%|██████████| 4118/4118 [02:45<00:00, 24.87it/s, loss=0.2103]\n",
            "Evaluating BiLSTM: 100%|██████████| 589/589 [01:12<00:00,  8.09it/s]\n"
          ]
        },
        {
          "output_type": "stream",
          "name": "stdout",
          "text": [
            "Train Loss: 0.2452, Validation Loss: 0.2299\n",
            "Validation Report:\n",
            "              precision    recall  f1-score   support\n",
            "\n",
            "       TAG_0     0.9751    0.9701    0.9726    365720\n",
            "       TAG_1     0.7940    0.7339    0.7627      6087\n",
            "       TAG_2     0.7176    0.7171    0.7174      6964\n",
            "       TAG_3     0.7621    0.7005    0.7300      6017\n",
            "       TAG_4     0.7559    0.8478    0.7992     20420\n",
            "       TAG_5     0.7541    0.7384    0.7462     23296\n",
            "       TAG_6     0.7213    0.6065    0.6590      9503\n",
            "       TAG_7     0.7751    0.9112    0.8376     19057\n",
            "       TAG_8     0.6708    0.5620    0.6116      6101\n",
            "\n",
            "    accuracy                         0.9274    463165\n",
            "   macro avg     0.7695    0.7542    0.7596    463165\n",
            "weighted avg     0.9279    0.9274    0.9271    463165\n",
            "\n",
            "Best model saved as ner_bilstm_best.pt!\n",
            "--------------------------------------------------\n",
            "Epoch 7/10\n"
          ]
        },
        {
          "output_type": "stream",
          "name": "stderr",
          "text": [
            "Training BiLSTM: 100%|██████████| 4118/4118 [02:45<00:00, 24.84it/s, loss=0.1679]\n",
            "Evaluating BiLSTM: 100%|██████████| 589/589 [01:13<00:00,  8.04it/s]\n"
          ]
        },
        {
          "output_type": "stream",
          "name": "stdout",
          "text": [
            "Train Loss: 0.2323, Validation Loss: 0.2232\n",
            "Validation Report:\n",
            "              precision    recall  f1-score   support\n",
            "\n",
            "       TAG_0     0.9771    0.9688    0.9729    365720\n",
            "       TAG_1     0.7650    0.7593    0.7621      6087\n",
            "       TAG_2     0.7048    0.7411    0.7225      6964\n",
            "       TAG_3     0.7602    0.7148    0.7368      6017\n",
            "       TAG_4     0.7733    0.8461    0.8080     20420\n",
            "       TAG_5     0.7473    0.7582    0.7527     23296\n",
            "       TAG_6     0.7097    0.6422    0.6743      9503\n",
            "       TAG_7     0.7916    0.9157    0.8491     19057\n",
            "       TAG_8     0.6949    0.5607    0.6206      6101\n",
            "\n",
            "    accuracy                         0.9290    463165\n",
            "   macro avg     0.7693    0.7674    0.7666    463165\n",
            "weighted avg     0.9300    0.9290    0.9291    463165\n",
            "\n",
            "Best model saved as ner_bilstm_best.pt!\n",
            "--------------------------------------------------\n",
            "Epoch 8/10\n"
          ]
        },
        {
          "output_type": "stream",
          "name": "stderr",
          "text": [
            "Training BiLSTM: 100%|██████████| 4118/4118 [02:46<00:00, 24.72it/s, loss=0.2072]\n",
            "Evaluating BiLSTM: 100%|██████████| 589/589 [01:13<00:00,  8.03it/s]\n"
          ]
        },
        {
          "output_type": "stream",
          "name": "stdout",
          "text": [
            "Train Loss: 0.2221, Validation Loss: 0.2160\n",
            "Validation Report:\n",
            "              precision    recall  f1-score   support\n",
            "\n",
            "       TAG_0     0.9771    0.9703    0.9737    365720\n",
            "       TAG_1     0.7603    0.7795    0.7698      6087\n",
            "       TAG_2     0.7388    0.7124    0.7253      6964\n",
            "       TAG_3     0.7877    0.6985    0.7404      6017\n",
            "       TAG_4     0.7659    0.8557    0.8083     20420\n",
            "       TAG_5     0.7635    0.7543    0.7589     23296\n",
            "       TAG_6     0.6965    0.6763    0.6863      9503\n",
            "       TAG_7     0.8134    0.9102    0.8591     19057\n",
            "       TAG_8     0.6813    0.5963    0.6360      6101\n",
            "\n",
            "    accuracy                         0.9310    463165\n",
            "   macro avg     0.7761    0.7726    0.7731    463165\n",
            "weighted avg     0.9318    0.9310    0.9311    463165\n",
            "\n",
            "Best model saved as ner_bilstm_best.pt!\n",
            "--------------------------------------------------\n",
            "Epoch 9/10\n"
          ]
        },
        {
          "output_type": "stream",
          "name": "stderr",
          "text": [
            "Training BiLSTM: 100%|██████████| 4118/4118 [02:46<00:00, 24.68it/s, loss=0.2635]\n",
            "Evaluating BiLSTM: 100%|██████████| 589/589 [01:13<00:00,  8.04it/s]\n"
          ]
        },
        {
          "output_type": "stream",
          "name": "stdout",
          "text": [
            "Train Loss: 0.2131, Validation Loss: 0.2197\n",
            "Validation Report:\n",
            "              precision    recall  f1-score   support\n",
            "\n",
            "       TAG_0     0.9788    0.9688    0.9738    365720\n",
            "       TAG_1     0.8013    0.7524    0.7761      6087\n",
            "       TAG_2     0.7315    0.6927    0.7116      6964\n",
            "       TAG_3     0.7496    0.7269    0.7381      6017\n",
            "       TAG_4     0.7228    0.8836    0.7952     20420\n",
            "       TAG_5     0.7749    0.7485    0.7614     23296\n",
            "       TAG_6     0.6945    0.6950    0.6948      9503\n",
            "       TAG_7     0.8157    0.9136    0.8619     19057\n",
            "       TAG_8     0.7279    0.5596    0.6327      6101\n",
            "\n",
            "    accuracy                         0.9306    463165\n",
            "   macro avg     0.7774    0.7712    0.7717    463165\n",
            "weighted avg     0.9324    0.9306    0.9308    463165\n",
            "\n",
            "--------------------------------------------------\n",
            "Epoch 10/10\n"
          ]
        },
        {
          "output_type": "stream",
          "name": "stderr",
          "text": [
            "Training BiLSTM: 100%|██████████| 4118/4118 [02:46<00:00, 24.72it/s, loss=0.1610]\n",
            "Evaluating BiLSTM: 100%|██████████| 589/589 [01:13<00:00,  8.06it/s]\n"
          ]
        },
        {
          "output_type": "stream",
          "name": "stdout",
          "text": [
            "Train Loss: 0.2054, Validation Loss: 0.2170\n",
            "Validation Report:\n",
            "              precision    recall  f1-score   support\n",
            "\n",
            "       TAG_0     0.9810    0.9671    0.9740    365720\n",
            "       TAG_1     0.7551    0.7891    0.7717      6087\n",
            "       TAG_2     0.7576    0.6960    0.7255      6964\n",
            "       TAG_3     0.7534    0.7318    0.7424      6017\n",
            "       TAG_4     0.7765    0.8609    0.8165     20420\n",
            "       TAG_5     0.7601    0.7727    0.7663     23296\n",
            "       TAG_6     0.6876    0.7114    0.6993      9503\n",
            "       TAG_7     0.7980    0.9235    0.8561     19057\n",
            "       TAG_8     0.6718    0.6407    0.6559      6101\n",
            "\n",
            "    accuracy                         0.9318    463165\n",
            "   macro avg     0.7712    0.7881    0.7786    463165\n",
            "weighted avg     0.9339    0.9318    0.9325    463165\n",
            "\n",
            "--------------------------------------------------\n",
            "Testing the best BiLSTM model...\n"
          ]
        },
        {
          "output_type": "stream",
          "name": "stderr",
          "text": [
            "Evaluating BiLSTM: 100%|██████████| 1177/1177 [02:26<00:00,  8.05it/s]\n"
          ]
        },
        {
          "output_type": "stream",
          "name": "stdout",
          "text": [
            "Test Loss: 0.2169\n",
            "Test Report:\n",
            "              precision    recall  f1-score   support\n",
            "\n",
            "       TAG_0     0.9771    0.9702    0.9736    727795\n",
            "       TAG_1     0.7692    0.7821    0.7756     12150\n",
            "       TAG_2     0.7331    0.7119    0.7224     13892\n",
            "       TAG_3     0.7870    0.6829    0.7313     12162\n",
            "       TAG_4     0.7741    0.8533    0.8118     40976\n",
            "       TAG_5     0.7579    0.7541    0.7560     46103\n",
            "       TAG_6     0.6875    0.6805    0.6840     17839\n",
            "       TAG_7     0.8124    0.9034    0.8555     37221\n",
            "       TAG_8     0.6931    0.6396    0.6653     12697\n",
            "\n",
            "    accuracy                         0.9311    920835\n",
            "   macro avg     0.7768    0.7753    0.7750    920835\n",
            "weighted avg     0.9320    0.9311    0.9313    920835\n",
            "\n"
          ]
        },
        {
          "output_type": "display_data",
          "data": {
            "text/plain": [
              "<Figure size 1000x600 with 1 Axes>"
            ],
            "image/png": "[encoded data removed]"
          },
          "metadata": {}
        },
        {
          "output_type": "display_data",
          "data": {
            "text/plain": [
              "<Figure size 1000x600 with 1 Axes>"
            ],
            "image/png": "[encoded data removed]"
          },
          "metadata": {}
        },
        {
          "output_type": "display_data",
          "data": {
            "text/plain": [
              "<Figure size 1000x600 with 1 Axes>"
            ],
            "image/png": "[encoded data removed]"
          },
          "metadata": {}
        },
        {
          "output_type": "display_data",
          "data": {
            "text/plain": [
              "<Figure size 1000x600 with 1 Axes>"
            ],
            "image/png": "[encoded data removed]"
          },
          "metadata": {}
        },
        {
          "output_type": "error",
          "ename": "ValueError",
          "evalue": "Image size of 846x425425829 pixels is too large. It must be less than 2^23 in each direction.",
          "traceback": [
            "\u001b[0;31m---------------------------------------------------------------------------\u001b[0m",
            "\u001b[0;31mValueError\u001b[0m                                Traceback (most recent call last)",
            "\u001b[0;32m/usr/local/lib/python3.11/dist-packages/IPython/core/formatters.py\u001b[0m in \u001b[0;36m__call__\u001b[0;34m(self, obj)\u001b[0m\n\u001b[1;32m    339\u001b[0m                 \u001b[0;32mpass\u001b[0m\u001b[0;34m\u001b[0m\u001b[0;34m\u001b[0m\u001b[0m\n\u001b[1;32m    340\u001b[0m             \u001b[0;32melse\u001b[0m\u001b[0;34m:\u001b[0m\u001b[0;34m\u001b[0m\u001b[0;34m\u001b[0m\u001b[0m\n\u001b[0;32m--> 341\u001b[0;31m                 \u001b[0;32mreturn\u001b[0m \u001b[0mprinter\u001b[0m\u001b[0;34m(\u001b[0m\u001b[0mobj\u001b[0m\u001b[0;34m)\u001b[0m\u001b[0;34m\u001b[0m\u001b[0;34m\u001b[0m\u001b[0m\n\u001b[0m\u001b[1;32m    342\u001b[0m             \u001b[0;31m# Finally look for special method names\u001b[0m\u001b[0;34m\u001b[0m\u001b[0;34m\u001b[0m\u001b[0m\n\u001b[1;32m    343\u001b[0m             \u001b[0mmethod\u001b[0m \u001b[0;34m=\u001b[0m \u001b[0mget_real_method\u001b[0m\u001b[0;34m(\u001b[0m\u001b[0mobj\u001b[0m\u001b[0;34m,\u001b[0m \u001b[0mself\u001b[0m\u001b[0;34m.\u001b[0m\u001b[0mprint_method\u001b[0m\u001b[0;34m)\u001b[0m\u001b[0;34m\u001b[0m\u001b[0;34m\u001b[0m\u001b[0m\n",
            "\u001b[0;32m/usr/local/lib/python3.11/dist-packages/IPython/core/pylabtools.py\u001b[0m in \u001b[0;36mprint_figure\u001b[0;34m(fig, fmt, bbox_inches, base64, **kwargs)\u001b[0m\n\u001b[1;32m    149\u001b[0m         \u001b[0mFigureCanvasBase\u001b[0m\u001b[0;34m(\u001b[0m\u001b[0mfig\u001b[0m\u001b[0;34m)\u001b[0m\u001b[0;34m\u001b[0m\u001b[0;34m\u001b[0m\u001b[0m\n\u001b[1;32m    150\u001b[0m \u001b[0;34m\u001b[0m\u001b[0m\n\u001b[0;32m--> 151\u001b[0;31m     \u001b[0mfig\u001b[0m\u001b[0;34m.\u001b[0m\u001b[0mcanvas\u001b[0m\u001b[0;34m.\u001b[0m\u001b[0mprint_figure\u001b[0m\u001b[0;34m(\u001b[0m\u001b[0mbytes_io\u001b[0m\u001b[0;34m,\u001b[0m \u001b[0;34m**\u001b[0m\u001b[0mkw\u001b[0m\u001b[0;34m)\u001b[0m\u001b[0;34m\u001b[0m\u001b[0;34m\u001b[0m\u001b[0m\n\u001b[0m\u001b[1;32m    152\u001b[0m     \u001b[0mdata\u001b[0m \u001b[0;34m=\u001b[0m \u001b[0mbytes_io\u001b[0m\u001b[0;34m.\u001b[0m\u001b[0mgetvalue\u001b[0m\u001b[0;34m(\u001b[0m\u001b[0;34m)\u001b[0m\u001b[0;34m\u001b[0m\u001b[0;34m\u001b[0m\u001b[0m\n\u001b[1;32m    153\u001b[0m     \u001b[0;32mif\u001b[0m \u001b[0mfmt\u001b[0m \u001b[0;34m==\u001b[0m \u001b[0;34m'svg'\u001b[0m\u001b[0;34m:\u001b[0m\u001b[0;34m\u001b[0m\u001b[0;34m\u001b[0m\u001b[0m\n",
            "\u001b[0;32m/usr/local/lib/python3.11/dist-packages/matplotlib/backend_bases.py\u001b[0m in \u001b[0;36mprint_figure\u001b[0;34m(self, filename, dpi, facecolor, edgecolor, orientation, format, bbox_inches, pad_inches, bbox_extra_artists, backend, **kwargs)\u001b[0m\n\u001b[1;32m   2182\u001b[0m                 \u001b[0;31m# force the figure dpi to 72), so we need to set it again here.\u001b[0m\u001b[0;34m\u001b[0m\u001b[0;34m\u001b[0m\u001b[0m\n\u001b[1;32m   2183\u001b[0m                 \u001b[0;32mwith\u001b[0m \u001b[0mcbook\u001b[0m\u001b[0;34m.\u001b[0m\u001b[0m_setattr_cm\u001b[0m\u001b[0;34m(\u001b[0m\u001b[0mself\u001b[0m\u001b[0;34m.\u001b[0m\u001b[0mfigure\u001b[0m\u001b[0;34m,\u001b[0m \u001b[0mdpi\u001b[0m\u001b[0;34m=\u001b[0m\u001b[0mdpi\u001b[0m\u001b[0;34m)\u001b[0m\u001b[0;34m:\u001b[0m\u001b[0;34m\u001b[0m\u001b[0;34m\u001b[0m\u001b[0m\n\u001b[0;32m-> 2184\u001b[0;31m                     result = print_method(\n\u001b[0m\u001b[1;32m   2185\u001b[0m                         \u001b[0mfilename\u001b[0m\u001b[0;34m,\u001b[0m\u001b[0;34m\u001b[0m\u001b[0;34m\u001b[0m\u001b[0m\n\u001b[1;32m   2186\u001b[0m                         \u001b[0mfacecolor\u001b[0m\u001b[0;34m=\u001b[0m\u001b[0mfacecolor\u001b[0m\u001b[0;34m,\u001b[0m\u001b[0;34m\u001b[0m\u001b[0;34m\u001b[0m\u001b[0m\n",
            "\u001b[0;32m/usr/local/lib/python3.11/dist-packages/matplotlib/backend_bases.py\u001b[0m in \u001b[0;36m<lambda>\u001b[0;34m(*args, **kwargs)\u001b[0m\n\u001b[1;32m   2038\u001b[0m                 \"bbox_inches_restore\"}\n\u001b[1;32m   2039\u001b[0m             \u001b[0mskip\u001b[0m \u001b[0;34m=\u001b[0m \u001b[0moptional_kws\u001b[0m \u001b[0;34m-\u001b[0m \u001b[0;34m{\u001b[0m\u001b[0;34m*\u001b[0m\u001b[0minspect\u001b[0m\u001b[0;34m.\u001b[0m\u001b[0msignature\u001b[0m\u001b[0;34m(\u001b[0m\u001b[0mmeth\u001b[0m\u001b[0;34m)\u001b[0m\u001b[0;34m.\u001b[0m\u001b[0mparameters\u001b[0m\u001b[0;34m}\u001b[0m\u001b[0;34m\u001b[0m\u001b[0;34m\u001b[0m\u001b[0m\n\u001b[0;32m-> 2040\u001b[0;31m             print_method = functools.wraps(meth)(lambda *args, **kwargs: meth(\n\u001b[0m\u001b[1;32m   2041\u001b[0m                 *args, **{k: v for k, v in kwargs.items() if k not in skip}))\n\u001b[1;32m   2042\u001b[0m         \u001b[0;32melse\u001b[0m\u001b[0;34m:\u001b[0m  \u001b[0;31m# Let third-parties do as they see fit.\u001b[0m\u001b[0;34m\u001b[0m\u001b[0;34m\u001b[0m\u001b[0m\n",
            "\u001b[0;32m/usr/local/lib/python3.11/dist-packages/matplotlib/backends/backend_agg.py\u001b[0m in \u001b[0;36mprint_png\u001b[0;34m(self, filename_or_obj, metadata, pil_kwargs)\u001b[0m\n\u001b[1;32m    479\u001b[0m             \u001b[0;34m*\u001b[0m\u001b[0mmetadata\u001b[0m\u001b[0;34m*\u001b[0m\u001b[0;34m,\u001b[0m \u001b[0mincluding\u001b[0m \u001b[0mthe\u001b[0m \u001b[0mdefault\u001b[0m \u001b[0;34m'Software'\u001b[0m \u001b[0mkey\u001b[0m\u001b[0;34m.\u001b[0m\u001b[0;34m\u001b[0m\u001b[0;34m\u001b[0m\u001b[0m\n\u001b[1;32m    480\u001b[0m         \"\"\"\n\u001b[0;32m--> 481\u001b[0;31m         \u001b[0mself\u001b[0m\u001b[0;34m.\u001b[0m\u001b[0m_print_pil\u001b[0m\u001b[0;34m(\u001b[0m\u001b[0mfilename_or_obj\u001b[0m\u001b[0;34m,\u001b[0m \u001b[0;34m\"png\"\u001b[0m\u001b[0;34m,\u001b[0m \u001b[0mpil_kwargs\u001b[0m\u001b[0;34m,\u001b[0m \u001b[0mmetadata\u001b[0m\u001b[0;34m)\u001b[0m\u001b[0;34m\u001b[0m\u001b[0;34m\u001b[0m\u001b[0m\n\u001b[0m\u001b[1;32m    482\u001b[0m \u001b[0;34m\u001b[0m\u001b[0m\n\u001b[1;32m    483\u001b[0m     \u001b[0;32mdef\u001b[0m \u001b[0mprint_to_buffer\u001b[0m\u001b[0;34m(\u001b[0m\u001b[0mself\u001b[0m\u001b[0;34m)\u001b[0m\u001b[0;34m:\u001b[0m\u001b[0;34m\u001b[0m\u001b[0;34m\u001b[0m\u001b[0m\n",
            "\u001b[0;32m/usr/local/lib/python3.11/dist-packages/matplotlib/backends/backend_agg.py\u001b[0m in \u001b[0;36m_print_pil\u001b[0;34m(self, filename_or_obj, fmt, pil_kwargs, metadata)\u001b[0m\n\u001b[1;32m    427\u001b[0m         *pil_kwargs* and *metadata* are forwarded).\n\u001b[1;32m    428\u001b[0m         \"\"\"\n\u001b[0;32m--> 429\u001b[0;31m         \u001b[0mFigureCanvasAgg\u001b[0m\u001b[0;34m.\u001b[0m\u001b[0mdraw\u001b[0m\u001b[0;34m(\u001b[0m\u001b[0mself\u001b[0m\u001b[0;34m)\u001b[0m\u001b[0;34m\u001b[0m\u001b[0;34m\u001b[0m\u001b[0m\n\u001b[0m\u001b[1;32m    430\u001b[0m         mpl.image.imsave(\n\u001b[1;32m    431\u001b[0m             \u001b[0mfilename_or_obj\u001b[0m\u001b[0;34m,\u001b[0m \u001b[0mself\u001b[0m\u001b[0;34m.\u001b[0m\u001b[0mbuffer_rgba\u001b[0m\u001b[0;34m(\u001b[0m\u001b[0;34m)\u001b[0m\u001b[0;34m,\u001b[0m \u001b[0mformat\u001b[0m\u001b[0;34m=\u001b[0m\u001b[0mfmt\u001b[0m\u001b[0;34m,\u001b[0m \u001b[0morigin\u001b[0m\u001b[0;34m=\u001b[0m\u001b[0;34m\"upper\"\u001b[0m\u001b[0;34m,\u001b[0m\u001b[0;34m\u001b[0m\u001b[0;34m\u001b[0m\u001b[0m\n",
            "\u001b[0;32m/usr/local/lib/python3.11/dist-packages/matplotlib/backends/backend_agg.py\u001b[0m in \u001b[0;36mdraw\u001b[0;34m(self)\u001b[0m\n\u001b[1;32m    375\u001b[0m     \u001b[0;32mdef\u001b[0m \u001b[0mdraw\u001b[0m\u001b[0;34m(\u001b[0m\u001b[0mself\u001b[0m\u001b[0;34m)\u001b[0m\u001b[0;34m:\u001b[0m\u001b[0;34m\u001b[0m\u001b[0;34m\u001b[0m\u001b[0m\n\u001b[1;32m    376\u001b[0m         \u001b[0;31m# docstring inherited\u001b[0m\u001b[0;34m\u001b[0m\u001b[0;34m\u001b[0m\u001b[0m\n\u001b[0;32m--> 377\u001b[0;31m         \u001b[0mself\u001b[0m\u001b[0;34m.\u001b[0m\u001b[0mrenderer\u001b[0m \u001b[0;34m=\u001b[0m \u001b[0mself\u001b[0m\u001b[0;34m.\u001b[0m\u001b[0mget_renderer\u001b[0m\u001b[0;34m(\u001b[0m\u001b[0;34m)\u001b[0m\u001b[0;34m\u001b[0m\u001b[0;34m\u001b[0m\u001b[0m\n\u001b[0m\u001b[1;32m    378\u001b[0m         \u001b[0mself\u001b[0m\u001b[0;34m.\u001b[0m\u001b[0mrenderer\u001b[0m\u001b[0;34m.\u001b[0m\u001b[0mclear\u001b[0m\u001b[0;34m(\u001b[0m\u001b[0;34m)\u001b[0m\u001b[0;34m\u001b[0m\u001b[0;34m\u001b[0m\u001b[0m\n\u001b[1;32m    379\u001b[0m         \u001b[0;31m# Acquire a lock on the shared font cache.\u001b[0m\u001b[0;34m\u001b[0m\u001b[0;34m\u001b[0m\u001b[0m\n",
            "\u001b[0;32m/usr/local/lib/python3.11/dist-packages/matplotlib/backends/backend_agg.py\u001b[0m in \u001b[0;36mget_renderer\u001b[0;34m(self)\u001b[0m\n\u001b[1;32m    390\u001b[0m         \u001b[0mreuse_renderer\u001b[0m \u001b[0;34m=\u001b[0m \u001b[0;34m(\u001b[0m\u001b[0mself\u001b[0m\u001b[0;34m.\u001b[0m\u001b[0m_lastKey\u001b[0m \u001b[0;34m==\u001b[0m \u001b[0mkey\u001b[0m\u001b[0;34m)\u001b[0m\u001b[0;34m\u001b[0m\u001b[0;34m\u001b[0m\u001b[0m\n\u001b[1;32m    391\u001b[0m         \u001b[0;32mif\u001b[0m \u001b[0;32mnot\u001b[0m \u001b[0mreuse_renderer\u001b[0m\u001b[0;34m:\u001b[0m\u001b[0;34m\u001b[0m\u001b[0;34m\u001b[0m\u001b[0m\n\u001b[0;32m--> 392\u001b[0;31m             \u001b[0mself\u001b[0m\u001b[0;34m.\u001b[0m\u001b[0mrenderer\u001b[0m \u001b[0;34m=\u001b[0m \u001b[0mRendererAgg\u001b[0m\u001b[0;34m(\u001b[0m\u001b[0mw\u001b[0m\u001b[0;34m,\u001b[0m \u001b[0mh\u001b[0m\u001b[0;34m,\u001b[0m \u001b[0mself\u001b[0m\u001b[0;34m.\u001b[0m\u001b[0mfigure\u001b[0m\u001b[0;34m.\u001b[0m\u001b[0mdpi\u001b[0m\u001b[0;34m)\u001b[0m\u001b[0;34m\u001b[0m\u001b[0;34m\u001b[0m\u001b[0m\n\u001b[0m\u001b[1;32m    393\u001b[0m             \u001b[0mself\u001b[0m\u001b[0;34m.\u001b[0m\u001b[0m_lastKey\u001b[0m \u001b[0;34m=\u001b[0m \u001b[0mkey\u001b[0m\u001b[0;34m\u001b[0m\u001b[0;34m\u001b[0m\u001b[0m\n\u001b[1;32m    394\u001b[0m         \u001b[0;32mreturn\u001b[0m \u001b[0mself\u001b[0m\u001b[0;34m.\u001b[0m\u001b[0mrenderer\u001b[0m\u001b[0;34m\u001b[0m\u001b[0;34m\u001b[0m\u001b[0m\n",
            "\u001b[0;32m/usr/local/lib/python3.11/dist-packages/matplotlib/backends/backend_agg.py\u001b[0m in \u001b[0;36m__init__\u001b[0;34m(self, width, height, dpi)\u001b[0m\n\u001b[1;32m     67\u001b[0m         \u001b[0mself\u001b[0m\u001b[0;34m.\u001b[0m\u001b[0mwidth\u001b[0m \u001b[0;34m=\u001b[0m \u001b[0mwidth\u001b[0m\u001b[0;34m\u001b[0m\u001b[0;34m\u001b[0m\u001b[0m\n\u001b[1;32m     68\u001b[0m         \u001b[0mself\u001b[0m\u001b[0;34m.\u001b[0m\u001b[0mheight\u001b[0m \u001b[0;34m=\u001b[0m \u001b[0mheight\u001b[0m\u001b[0;34m\u001b[0m\u001b[0;34m\u001b[0m\u001b[0m\n\u001b[0;32m---> 69\u001b[0;31m         \u001b[0mself\u001b[0m\u001b[0;34m.\u001b[0m\u001b[0m_renderer\u001b[0m \u001b[0;34m=\u001b[0m \u001b[0m_RendererAgg\u001b[0m\u001b[0;34m(\u001b[0m\u001b[0mint\u001b[0m\u001b[0;34m(\u001b[0m\u001b[0mwidth\u001b[0m\u001b[0;34m)\u001b[0m\u001b[0;34m,\u001b[0m \u001b[0mint\u001b[0m\u001b[0;34m(\u001b[0m\u001b[0mheight\u001b[0m\u001b[0;34m)\u001b[0m\u001b[0;34m,\u001b[0m \u001b[0mdpi\u001b[0m\u001b[0;34m)\u001b[0m\u001b[0;34m\u001b[0m\u001b[0;34m\u001b[0m\u001b[0m\n\u001b[0m\u001b[1;32m     70\u001b[0m         \u001b[0mself\u001b[0m\u001b[0;34m.\u001b[0m\u001b[0m_filter_renderers\u001b[0m \u001b[0;34m=\u001b[0m \u001b[0;34m[\u001b[0m\u001b[0;34m]\u001b[0m\u001b[0;34m\u001b[0m\u001b[0;34m\u001b[0m\u001b[0m\n\u001b[1;32m     71\u001b[0m \u001b[0;34m\u001b[0m\u001b[0m\n",
            "\u001b[0;31mValueError\u001b[0m: Image size of 846x425425829 pixels is too large. It must be less than 2^23 in each direction."
          ]
        },
        {
          "output_type": "display_data",
          "data": {
            "text/plain": [
              "<Figure size 1000x600 with 1 Axes>"
            ]
          },
          "metadata": {}
        },
        {
          "output_type": "stream",
          "name": "stdout",
          "text": [
            "\n",
            "Model Performance Comparison (F1 Scores):\n",
            "RNN: 920835.0000\n",
            "LSTM: 920835.0000\n",
            "BIRNN: 920835.0000\n",
            "BILSTM: 920835.0000\n"
          ]
        }
      ]
    }
  ]
}